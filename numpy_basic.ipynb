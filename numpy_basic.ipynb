{
  "nbformat": 4,
  "nbformat_minor": 0,
  "metadata": {
    "colab": {
      "provenance": [],
      "authorship_tag": "ABX9TyPc2qyrR97JA2qenzqEP7Up",
      "include_colab_link": true
    },
    "kernelspec": {
      "name": "python3",
      "display_name": "Python 3"
    },
    "language_info": {
      "name": "python"
    }
  },
  "cells": [
    {
      "cell_type": "markdown",
      "metadata": {
        "id": "view-in-github",
        "colab_type": "text"
      },
      "source": [
        "<a href=\"https://colab.research.google.com/github/inthyes/python-base/blob/main/numpy_basic.ipynb\" target=\"_parent\"><img src=\"https://colab.research.google.com/assets/colab-badge.svg\" alt=\"Open In Colab\"/></a>"
      ]
    },
    {
      "cell_type": "markdown",
      "source": [
        "모듈과 패키지"
      ],
      "metadata": {
        "id": "-aDsWGzyPcxR"
      }
    },
    {
      "cell_type": "code",
      "source": [
        "# 모듈은 변수, 함수, 클래스를 담고 있는 파일(.py)\n",
        "# 패키지는 여러 모듈을 묶은 것(폴더)\n",
        "# import 모듈\n",
        "\n",
        "# 모듈.변수\n",
        "# 모듈.함수()"
      ],
      "metadata": {
        "id": "fsZQbglPPel2"
      },
      "execution_count": null,
      "outputs": []
    },
    {
      "cell_type": "code",
      "source": [
        "import math\n",
        "print(math.pi)\n",
        "print(math.sqrt(4))"
      ],
      "metadata": {
        "colab": {
          "base_uri": "https://localhost:8080/"
        },
        "id": "ME4oOOo3QSWb",
        "outputId": "c550a730-84dc-4807-910f-8aa36f08e262"
      },
      "execution_count": null,
      "outputs": [
        {
          "output_type": "stream",
          "name": "stdout",
          "text": [
            "3.141592653589793\n",
            "2.0\n"
          ]
        }
      ]
    },
    {
      "cell_type": "code",
      "source": [
        "import math as m\n",
        "print(m.pi)\n",
        "print(m.sqrt(4))"
      ],
      "metadata": {
        "colab": {
          "base_uri": "https://localhost:8080/"
        },
        "id": "3gQ84ZTvQTlt",
        "outputId": "7b5011f5-2090-4f3f-d794-ceee8bf88809"
      },
      "execution_count": null,
      "outputs": [
        {
          "output_type": "stream",
          "name": "stdout",
          "text": [
            "3.141592653589793\n",
            "2.0\n"
          ]
        }
      ]
    },
    {
      "cell_type": "code",
      "source": [
        "from math import pi, sqrt\n",
        "print(pi)\n",
        "print(sqrt(4))"
      ],
      "metadata": {
        "colab": {
          "base_uri": "https://localhost:8080/"
        },
        "id": "pmfJG_0nQUUG",
        "outputId": "375a8d37-640c-4196-ae7b-8aae6b21ba20"
      },
      "execution_count": null,
      "outputs": [
        {
          "output_type": "stream",
          "name": "stdout",
          "text": [
            "3.141592653589793\n",
            "2.0\n"
          ]
        }
      ]
    },
    {
      "cell_type": "code",
      "source": [
        "from math import * # *이 all이라는 뜻\n",
        "print(pi)\n",
        "print(sqrt(4))"
      ],
      "metadata": {
        "colab": {
          "base_uri": "https://localhost:8080/"
        },
        "id": "7hFDH1LSQ5dj",
        "outputId": "91c879ca-c249-4770-995d-db32dd27da32"
      },
      "execution_count": null,
      "outputs": [
        {
          "output_type": "stream",
          "name": "stdout",
          "text": [
            "3.141592653589793\n",
            "2.0\n"
          ]
        }
      ]
    },
    {
      "cell_type": "code",
      "source": [
        "from math import sqrt as s, pi as p\n",
        "print(p)\n",
        "print(s(4))"
      ],
      "metadata": {
        "colab": {
          "base_uri": "https://localhost:8080/"
        },
        "id": "ztvJhpHpRKYv",
        "outputId": "3741ab40-a0e7-4ddd-f096-d0c53e4c25dc"
      },
      "execution_count": null,
      "outputs": [
        {
          "output_type": "stream",
          "name": "stdout",
          "text": [
            "3.141592653589793\n",
            "2.0\n"
          ]
        }
      ]
    },
    {
      "cell_type": "code",
      "source": [
        "# import 패키지\n",
        "# import 패키지.모듈1\n",
        "# import 패키지.모듈1, 패키지.모듈2\n",
        "# 패키지.모듈.변수\n",
        "# 패키지.모듈.함수()\n",
        "# 패키지.모듈.클래스()"
      ],
      "metadata": {
        "id": "Yc0KnuRCRWPy"
      },
      "execution_count": null,
      "outputs": []
    },
    {
      "cell_type": "code",
      "source": [
        "import numpy as np # numpy는 라이브러리(패키지와 모듈을 모아놓음, numpy -> numerical python)\n",
        "a = np.array([1, 2, 3])\n",
        "print(a)\n",
        "type(np.array)"
      ],
      "metadata": {
        "colab": {
          "base_uri": "https://localhost:8080/"
        },
        "id": "2D79fGYLR5bl",
        "outputId": "22b2683e-9477-4b78-adc9-bd4af61fc15c"
      },
      "execution_count": null,
      "outputs": [
        {
          "output_type": "stream",
          "name": "stdout",
          "text": [
            "[1 2 3]\n"
          ]
        },
        {
          "output_type": "execute_result",
          "data": {
            "text/plain": [
              "builtin_function_or_method"
            ]
          },
          "metadata": {},
          "execution_count": 10
        }
      ]
    },
    {
      "cell_type": "code",
      "source": [
        "import numpy.random\n",
        "print(numpy.random.randn(3,3)) # Normal distribution, (3,3)은 3행 3열 짜리를 의미"
      ],
      "metadata": {
        "colab": {
          "base_uri": "https://localhost:8080/"
        },
        "id": "QSAAY8hsSMGj",
        "outputId": "429c65bf-193c-432c-91de-5cf07d26800f"
      },
      "execution_count": null,
      "outputs": [
        {
          "output_type": "stream",
          "name": "stdout",
          "text": [
            "[[ 0.39813012 -1.18162731  0.93799181]\n",
            " [ 1.63947639  1.05740095  0.29354003]\n",
            " [-0.68502748  0.45711845 -0.27034697]]\n"
          ]
        }
      ]
    },
    {
      "cell_type": "code",
      "source": [
        "import numpy.random as nr\n",
        "print(nr.randn(3,3))"
      ],
      "metadata": {
        "colab": {
          "base_uri": "https://localhost:8080/"
        },
        "id": "dM06k_fRS04C",
        "outputId": "687e77f3-acd8-4b2f-ca9c-8f0772379dac"
      },
      "execution_count": null,
      "outputs": [
        {
          "output_type": "stream",
          "name": "stdout",
          "text": [
            "[[ 0.71922391  0.90522824 -1.27465487]\n",
            " [-1.42388762  0.52467795 -1.27987263]\n",
            " [-0.43187253 -1.05862509  1.42606823]]\n"
          ]
        }
      ]
    },
    {
      "cell_type": "code",
      "source": [
        "from numpy.random import randn\n",
        "print(randn(3,3))"
      ],
      "metadata": {
        "colab": {
          "base_uri": "https://localhost:8080/"
        },
        "id": "oce-0NR2S_5v",
        "outputId": "2acf0b7a-086c-43ed-ee89-ccd6adc78b33"
      },
      "execution_count": null,
      "outputs": [
        {
          "output_type": "stream",
          "name": "stdout",
          "text": [
            "[[ 0.6742058   0.57855104  0.7203988 ]\n",
            " [ 0.78833041 -0.01776284  0.4007551 ]\n",
            " [-0.48070109  0.37157822 -0.35617926]]\n"
          ]
        }
      ]
    },
    {
      "cell_type": "code",
      "source": [
        "from numpy.random import *\n",
        "print(rand(3,3)) # uniform distribution"
      ],
      "metadata": {
        "colab": {
          "base_uri": "https://localhost:8080/"
        },
        "id": "7VRD7yg-TFAh",
        "outputId": "f87a25d0-b327-4033-fdc4-1b1922326f14"
      },
      "execution_count": null,
      "outputs": [
        {
          "output_type": "stream",
          "name": "stdout",
          "text": [
            "[[0.43018122 0.77297766 0.64372734]\n",
            " [0.84757166 0.39029554 0.23875279]\n",
            " [0.10506096 0.07002546 0.49784219]]\n"
          ]
        }
      ]
    },
    {
      "cell_type": "code",
      "source": [
        "from numpy.random import randn as rn\n",
        "print(rn(3,3))"
      ],
      "metadata": {
        "colab": {
          "base_uri": "https://localhost:8080/"
        },
        "id": "j634SkekTN6D",
        "outputId": "6d8b9e37-a91c-4cac-a290-b2605931c880"
      },
      "execution_count": null,
      "outputs": [
        {
          "output_type": "stream",
          "name": "stdout",
          "text": [
            "[[ 0.36629623 -1.69430813  0.30866472]\n",
            " [-0.53014823  0.48966962  0.66819978]\n",
            " [-0.49098354  0.13460608  0.33867542]]\n"
          ]
        }
      ]
    },
    {
      "cell_type": "code",
      "source": [
        "from numpy.random import rand as rn, randn as r\n",
        "print(rn(3,3))\n",
        "print(r(3,3))"
      ],
      "metadata": {
        "colab": {
          "base_uri": "https://localhost:8080/"
        },
        "id": "AUmsIHhATjDi",
        "outputId": "25ae87bd-ce77-4045-fd70-82538a176c49"
      },
      "execution_count": 23,
      "outputs": [
        {
          "output_type": "stream",
          "name": "stdout",
          "text": [
            "[[0.32584249 0.73982553 0.99927685]\n",
            " [0.72861791 0.25604463 0.49066603]\n",
            " [0.63319838 0.26802427 0.04135827]]\n",
            "[[-0.89838467 -0.16695776  0.30235301]\n",
            " [-0.97542282 -1.38945202  1.58373112]\n",
            " [-0.71149649  1.71580892  0.41992686]]\n"
          ]
        }
      ]
    },
    {
      "cell_type": "markdown",
      "source": [
        "numpy 본격적으로"
      ],
      "metadata": {
        "id": "AGiJBAenTwB7"
      }
    },
    {
      "cell_type": "code",
      "source": [
        "import numpy as np\n",
        "a = np.array([1, 2, 3, 4]) # list가 입력으로 들어가는 함수\n",
        "print(a, type(a))\n",
        "print(a.dtype) # data type\n",
        "print(a.shape) # 많이 쓰임\n",
        "\n",
        "b = np.array([1, 2, 3.1, 4])\n",
        "print(b.dtype) # 하나라도 실수면 자동으로 실수 타입으로 바뀜"
      ],
      "metadata": {
        "colab": {
          "base_uri": "https://localhost:8080/"
        },
        "id": "Us2aTxMPTukd",
        "outputId": "efedc0c4-63cb-47e8-da13-d17d12c327fc"
      },
      "execution_count": null,
      "outputs": [
        {
          "output_type": "stream",
          "name": "stdout",
          "text": [
            "[1 2 3 4] <class 'numpy.ndarray'>\n",
            "int64\n",
            "(4,)\n",
            "float64\n"
          ]
        }
      ]
    },
    {
      "cell_type": "code",
      "source": [
        "a = np.array(2**600) # 오버플로우 안 남.\n",
        "b = np.array(2**63-1)\n",
        "print(a)\n",
        "print(a.dtype)\n",
        "print(b)\n",
        "print(b.dtype)"
      ],
      "metadata": {
        "colab": {
          "base_uri": "https://localhost:8080/"
        },
        "id": "kfHnyTOhT25W",
        "outputId": "3a101e78-c885-4d43-a5cf-479662fb9dfd"
      },
      "execution_count": null,
      "outputs": [
        {
          "output_type": "stream",
          "name": "stdout",
          "text": [
            "4149515568880992958512407863691161151012446232242436899995657329690652811412908146399707048947103794288197886611300789182395151075411775307886874834113963687061181803401509523685376\n",
            "object\n",
            "9223372036854775807\n",
            "int64\n"
          ]
        }
      ]
    },
    {
      "cell_type": "code",
      "source": [
        "A = np.array([[1,2],[3,4]]) # 이 셀부터는 import numpy as np는 실행했다는 전제로 진행\n",
        "# A = np.array([[1,2],[3,4,5]]) # 리스트와는 달리 이제는 행렬이라서 각 행에 해당하는 숫자의 개수가 같아야 함\n",
        "\n",
        "print(A)\n",
        "print(A.shape)\n",
        "print(A.ndim) # 차원은 담겨있다는 개념으로 이해할 것\n",
        "print(A.size) # 전체 성분의 수 A.shape[0] * A.shape[1] * ... * A.shape(n)"
      ],
      "metadata": {
        "colab": {
          "base_uri": "https://localhost:8080/"
        },
        "id": "LQ7lKLh-U9l6",
        "outputId": "f464e43b-2c76-4d80-d2c1-9cafe871287e"
      },
      "execution_count": null,
      "outputs": [
        {
          "output_type": "stream",
          "name": "stdout",
          "text": [
            "[[1 2]\n",
            " [3 4]]\n",
            "(2, 2)\n",
            "2\n",
            "4\n"
          ]
        }
      ]
    },
    {
      "cell_type": "code",
      "source": [
        "print(np.zeros(5))\n",
        "print(np.zeros_like(A)) # A의 사이즈에 맞게 0으로 삽입하여 출력\n",
        "print(np.ones(5))\n",
        "print(np.zeros([3,3])) # 튜플을 입력으로! 그냥 np.zeros(3,3)은 안됨\n",
        "\n",
        "import torch\n",
        "print(torch.zeros(3,3))\n",
        "\n",
        "print(np.arange(3,10,2)) # range랑 같은데 array로 만들어줌\n",
        "print(np.arange(0,1,0.1)) # 소수점 가능\n",
        "print(np.linspace(0,1,10, endpoint = False)) # 0에서부터 1포함(default) 10개로"
      ],
      "metadata": {
        "colab": {
          "base_uri": "https://localhost:8080/"
        },
        "id": "I-sKvR2EVdJt",
        "outputId": "0fe967d7-53c0-455f-eb18-5fd7fdfd1bb3"
      },
      "execution_count": null,
      "outputs": [
        {
          "output_type": "stream",
          "name": "stdout",
          "text": [
            "[0. 0. 0. 0. 0.]\n",
            "[[0 0]\n",
            " [0 0]]\n",
            "[1. 1. 1. 1. 1.]\n",
            "[[0. 0. 0.]\n",
            " [0. 0. 0.]\n",
            " [0. 0. 0.]]\n",
            "tensor([[0., 0., 0.],\n",
            "        [0., 0., 0.],\n",
            "        [0., 0., 0.]])\n",
            "[3 5 7 9]\n",
            "[0.  0.1 0.2 0.3 0.4 0.5 0.6 0.7 0.8 0.9]\n",
            "[0.  0.1 0.2 0.3 0.4 0.5 0.6 0.7 0.8 0.9]\n"
          ]
        }
      ]
    },
    {
      "cell_type": "code",
      "source": [
        "a = np.array([1,2,3])\n",
        "b = np.array([4,5,6])\n",
        "c = a + b\n",
        "print(c) # 벡터의 합 출력"
      ],
      "metadata": {
        "colab": {
          "base_uri": "https://localhost:8080/"
        },
        "id": "2wJIdN9EXUha",
        "outputId": "11ba64bd-2661-4d92-9adc-9b10663e8cba"
      },
      "execution_count": null,
      "outputs": [
        {
          "output_type": "stream",
          "name": "stdout",
          "text": [
            "[5 7 9]\n"
          ]
        }
      ]
    },
    {
      "cell_type": "code",
      "source": [
        "A = np.array([[1,2,3],[1,2,3]])\n",
        "B = np.array([[4,5,6],[1,1,1]])\n",
        "C = A + B\n",
        "D = A - B\n",
        "print(C)\n",
        "print(D)\n",
        "print()\n",
        "print(A * B) # 성분끼리의 곱 (Hadamard product)\n",
        "print(A / B) # 나누기도 마찬가지\n",
        "print(B**2) #제곱도 각 성분에 대해서 해준다\n",
        "# [[1,2,3],[1,2,3]] + [[4,5,6],[1,1,1]]"
      ],
      "metadata": {
        "colab": {
          "base_uri": "https://localhost:8080/"
        },
        "id": "UKZ_2voZZmEH",
        "outputId": "90a3e5de-74ef-45aa-88a0-daf92e4e277b"
      },
      "execution_count": null,
      "outputs": [
        {
          "output_type": "stream",
          "name": "stdout",
          "text": [
            "[[5 7 9]\n",
            " [2 3 4]]\n",
            "[[-3 -3 -3]\n",
            " [ 0  1  2]]\n",
            "\n",
            "[[ 4 10 18]\n",
            " [ 1  2  3]]\n",
            "[[0.25 0.4  0.5 ]\n",
            " [1.   2.   3.  ]]\n",
            "[[16 25 36]\n",
            " [ 1  1  1]]\n"
          ]
        }
      ]
    },
    {
      "cell_type": "code",
      "source": [
        "A = np.array([[1,2],[3,4]])\n",
        "B = np.array([[1,2],[3,4]])\n",
        "print(A*B)\n",
        "print(A@B)"
      ],
      "metadata": {
        "colab": {
          "base_uri": "https://localhost:8080/"
        },
        "id": "tTzK9HNtZ5Wt",
        "outputId": "2767712c-369a-47f1-be9b-95bd385dce28"
      },
      "execution_count": null,
      "outputs": [
        {
          "output_type": "stream",
          "name": "stdout",
          "text": [
            "[[ 1  4]\n",
            " [ 9 16]]\n",
            "[[ 7 10]\n",
            " [15 22]]\n"
          ]
        }
      ]
    },
    {
      "cell_type": "markdown",
      "source": [
        "numpy의 인덱싱과 슬라이싱"
      ],
      "metadata": {
        "id": "vYNL8CsAa2o4"
      }
    },
    {
      "cell_type": "code",
      "source": [
        "a = np.array([1,2,3,4,5,6,7,8,9])\n",
        "print(a[0])\n",
        "print(a[1])\n",
        "print(a[-1])\n",
        "print(a[1:4])\n",
        "print(a[7:])\n",
        "print(a[:])"
      ],
      "metadata": {
        "colab": {
          "base_uri": "https://localhost:8080/"
        },
        "id": "FBjL4DMVavim",
        "outputId": "94c7cb50-51ab-4ccd-92f4-def0e16abc0a"
      },
      "execution_count": null,
      "outputs": [
        {
          "output_type": "stream",
          "name": "stdout",
          "text": [
            "1\n",
            "2\n",
            "9\n",
            "[2 3 4]\n",
            "[8 9]\n",
            "[1 2 3 4 5 6 7 8 9]\n"
          ]
        }
      ]
    },
    {
      "cell_type": "code",
      "source": [
        "# 행렬에 대한 인덱싱과 슬라이싱\n",
        "A = np.array([[1, 2, 3,],[4, 5, 6],[7, 8, 9]])\n",
        "print(A[0])\n",
        "print(A[-1])\n",
        "print(A[1:])\n",
        "print(A[:])\n",
        "print(A[0][2])\n",
        "print(A[0,2]) # numpy에서만 지원하는 문법\n",
        "print(A[1,:]) # 1행, 전부\n",
        "print(A[1, 0:3:2]) # 0:3:2는 열에 대한 것\n",
        "print(A[:,2]) #전부, 2열"
      ],
      "metadata": {
        "colab": {
          "base_uri": "https://localhost:8080/"
        },
        "id": "LDm2fNx1a7YY",
        "outputId": "725e015d-aa7e-406b-d076-4c0d52556ad7"
      },
      "execution_count": null,
      "outputs": [
        {
          "output_type": "stream",
          "name": "stdout",
          "text": [
            "[1 2 3]\n",
            "[7 8 9]\n",
            "[[4 5 6]\n",
            " [7 8 9]]\n",
            "[[1 2 3]\n",
            " [4 5 6]\n",
            " [7 8 9]]\n",
            "3\n",
            "3\n",
            "[4 5 6]\n",
            "[4 6]\n",
            "[3 6 9]\n"
          ]
        }
      ]
    },
    {
      "cell_type": "code",
      "source": [
        "# boolean 인덱싱\n",
        "a = [1, 2, 3, 4, 5, 3, 3]\n",
        "print(a == 3) # 여러개값이 들어있는 리스트와 숫자 3이 같느냐. 다름.\n",
        "A = np.array([[1, 2, 3, 4], [5, 3, 7, 3]])\n",
        "print(A == 3) # 각 요소에 대해 비교해줌\n",
        "print(A[A == 3]) # True, False가 담긴 행렬로 인덱싱 가능\n",
        "\n",
        "A[A == 3] = 100 # 주소까지 물고와서 값을 변경 (3인 애들ㅇ르 100으로 바꿔줘)\n",
        "print(A)\n",
        "\n",
        "A = np.array([[1, 2], [3, 4], [5, 6], [7, 8]])\n",
        "B = np.array([True, False, False, True]) #리스트에서도 사용 가능\n",
        "\n",
        "A[B, :] # 0행, 3행 슬라이싱\n",
        "\n",
        "b = np.array([1, 2, 3, 4])\n",
        "print(b)\n",
        "print(b[[True, True, False, False]])\n",
        "c = [1, 2, 3, 4]\n",
        "c[[True, True, False, False]] # error!"
      ],
      "metadata": {
        "colab": {
          "base_uri": "https://localhost:8080/"
        },
        "id": "rQ-m5cpCcOzu",
        "outputId": "80ba5acc-37f2-44a5-e016-a9d45999491a"
      },
      "execution_count": null,
      "outputs": [
        {
          "output_type": "stream",
          "name": "stdout",
          "text": [
            "False\n",
            "[[False False  True False]\n",
            " [False  True False  True]]\n",
            "[3 3 3]\n",
            "[[  1   2 100   4]\n",
            " [  5 100   7 100]]\n",
            "[1 2 3 4]\n",
            "[1 2]\n"
          ]
        }
      ]
    },
    {
      "cell_type": "code",
      "source": [
        "# 3차원 행렬 인덱싱\n",
        "A = np.array([[[0, 1, 2, 3], [4, 5, 6, 7],[8, 9, 10, 11]],\n",
        "             [[12, 13, 14, 15], [16, 17, 18, 19], [20, 21, 22, 23]]])\n",
        "\n",
        "print(A)\n",
        "print(A.shape) # 대괄호가 하나 늘어나면 왼쪽 shape값이 하나 추가\n",
        "print(A[0, 1, 2])"
      ],
      "metadata": {
        "colab": {
          "base_uri": "https://localhost:8080/"
        },
        "id": "W1C-Ypi7CaN6",
        "outputId": "2d098f13-ccb6-4ebb-ab60-c1bf3e81ce3a"
      },
      "execution_count": null,
      "outputs": [
        {
          "output_type": "stream",
          "name": "stdout",
          "text": [
            "[[[ 0  1  2  3]\n",
            "  [ 4  5  6  7]\n",
            "  [ 8  9 10 11]]\n",
            "\n",
            " [[12 13 14 15]\n",
            "  [16 17 18 19]\n",
            "  [20 21 22 23]]]\n",
            "(2, 3, 4)\n",
            "6\n"
          ]
        }
      ]
    },
    {
      "cell_type": "markdown",
      "source": [
        "numpy의 여러 함수들"
      ],
      "metadata": {
        "id": "Q0Ik0dTuDBev"
      }
    },
    {
      "cell_type": "code",
      "source": [
        "A = np.random.randn(3, 3) # 튜플로 안줘도 됨\n",
        "B = np.random.rand(3, 3)\n",
        "print(A)\n",
        "print(B)\n",
        "print(A[:,0]<0,)\n",
        "print(A[A[:,0]<0, :]) # 0번째 열의 성분이 음수인 행"
      ],
      "metadata": {
        "colab": {
          "base_uri": "https://localhost:8080/"
        },
        "id": "Xo_5e_CpDDNX",
        "outputId": "f74d6b2f-86e9-4111-c835-df9a980d4efb"
      },
      "execution_count": null,
      "outputs": [
        {
          "output_type": "stream",
          "name": "stdout",
          "text": [
            "[[ 1.27720054  0.82021447  0.82251542]\n",
            " [-0.96100121  0.32859793 -1.66124233]\n",
            " [-1.25653622 -1.05778912  0.54207319]]\n",
            "[[0.83431575 0.86096602 0.51720666]\n",
            " [0.6529426  0.51761706 0.36332674]\n",
            " [0.37702245 0.14737951 0.04100042]]\n",
            "[False  True  True]\n",
            "[[-0.96100121  0.32859793 -1.66124233]\n",
            " [-1.25653622 -1.05778912  0.54207319]]\n"
          ]
        }
      ]
    },
    {
      "cell_type": "code",
      "source": [
        "A = np.random.randn(3, 3)\n",
        "print(A)\n",
        "print(np.abs(A))\n",
        "print(np.sqrt(np.abs(A)))\n",
        "print(np.exp(A))\n",
        "print(np.log(np.abs(A)))\n",
        "print(np.log(np.exp(1))) # np.exp(1) = e^1\n",
        "print(np.log10(10))\n",
        "print(np.log2(2))\n",
        "print(np.round(A,2)) # 소수점 둘째자리까지 반올림\n",
        "print(np.floor(A)) # 내림\n",
        "print(np.ceil(A)) # 올림"
      ],
      "metadata": {
        "colab": {
          "base_uri": "https://localhost:8080/"
        },
        "id": "gtunOJ1yEA9v",
        "outputId": "ca27a608-ca95-47da-817b-ffff70dcde32"
      },
      "execution_count": null,
      "outputs": [
        {
          "output_type": "stream",
          "name": "stdout",
          "text": [
            "[[-0.71935685 -2.14782247 -0.96158774]\n",
            " [ 0.87509416 -0.30329944 -0.24470454]\n",
            " [-0.1268632   0.75609309  0.69324627]]\n",
            "[[0.71935685 2.14782247 0.96158774]\n",
            " [0.87509416 0.30329944 0.24470454]\n",
            " [0.1268632  0.75609309 0.69324627]]\n",
            "[[0.84814907 1.46554511 0.9806058 ]\n",
            " [0.93546467 0.55072629 0.4946762 ]\n",
            " [0.3561786  0.86953613 0.83261412]]\n",
            "[[0.48706541 0.11673808 0.38228544]\n",
            " [2.39910118 0.73837796 0.78293583]\n",
            " [0.88085417 2.12993846 2.00019819]]\n",
            "[[-0.32939773  0.76445452 -0.03916947]\n",
            " [-0.13342379 -1.19303471 -1.40770375]\n",
            " [-2.06464597 -0.27959078 -0.36636997]]\n",
            "1.0\n",
            "1.0\n",
            "1.0\n",
            "[[-0.72 -2.15 -0.96]\n",
            " [ 0.88 -0.3  -0.24]\n",
            " [-0.13  0.76  0.69]]\n"
          ]
        }
      ]
    },
    {
      "cell_type": "code",
      "source": [
        "print(np.sin(np.pi/6))\n",
        "print(np.cos(np.pi/3))\n",
        "print(np.tan(np.pi/4))\n",
        "print(np.tanh(-10))"
      ],
      "metadata": {
        "colab": {
          "base_uri": "https://localhost:8080/"
        },
        "id": "ZKpGveUOE7Gu",
        "outputId": "027234d5-3eb7-4882-c9d0-b9c62dd159a6"
      },
      "execution_count": null,
      "outputs": [
        {
          "output_type": "stream",
          "name": "stdout",
          "text": [
            "0.49999999999999994\n",
            "0.5000000000000001\n",
            "0.9999999999999999\n",
            "-0.9999999958776927\n"
          ]
        }
      ]
    },
    {
      "cell_type": "code",
      "source": [
        "np.nan # not a number\n",
        "# np.log(-1)\n",
        "print(np.isnan([1, 2, np.nan, 3, 4]))\n",
        "print(np.isinf([1, 2, 3, 4, np.inf]))"
      ],
      "metadata": {
        "colab": {
          "base_uri": "https://localhost:8080/"
        },
        "id": "Zh10EPQNFMwU",
        "outputId": "06604136-2236-4b44-fdbc-e25bb7441286"
      },
      "execution_count": null,
      "outputs": [
        {
          "output_type": "stream",
          "name": "stdout",
          "text": [
            "[False False  True False False]\n",
            "[False False False False  True]\n"
          ]
        }
      ]
    },
    {
      "cell_type": "code",
      "source": [
        "A = np.random.randn(3, 4)\n",
        "print(A)\n",
        "print(np.max(A))\n",
        "print(np.max(A, axis = 0)) # 행을 기준으로 3개 중에서 고름\n",
        "print(np.max(A, axis = 1)) # 열을 기준으로 (4개로)\n",
        "\n",
        "print(np.max(A, axis = 0, keepdims = True)) # 3행 1열\n",
        "print(np.max(A, axis = 1, keepdims = True)) # 1행 4열\n",
        "print(np.min(A))\n",
        "print(np.min(A, axis = 0))\n",
        "\n",
        "print(np.argmax(A)) # 가장 큰 값의 인덱스값 출력\n",
        "print(np.argmax(A, axis = 0)) # 각각 열에서 가장 큰 애가 존재하는 인덱스\n",
        "print(np.argmax(A, axis = 1)) # 각각 행에서 가장 큰 애가 존재하는 인덱스"
      ],
      "metadata": {
        "colab": {
          "base_uri": "https://localhost:8080/",
          "height": 145
        },
        "id": "l6qo7vVfFeI-",
        "outputId": "04deb1d5-7ff0-46c5-9e86-2e4f49b4d8b2"
      },
      "execution_count": null,
      "outputs": [
        {
          "output_type": "error",
          "ename": "SyntaxError",
          "evalue": "ignored",
          "traceback": [
            "\u001b[0;36m  File \u001b[0;32m\"<ipython-input-60-e2ca5072e250>\"\u001b[0;36m, line \u001b[0;32m9\u001b[0m\n\u001b[0;31m    print(np.min(A)\u001b[0m\n\u001b[0m          ^\u001b[0m\n\u001b[0;31mSyntaxError\u001b[0m\u001b[0;31m:\u001b[0m invalid syntax. Perhaps you forgot a comma?\n"
          ]
        }
      ]
    },
    {
      "cell_type": "code",
      "source": [
        "a = np.random.randn(6, 1)\n",
        "print(a)\n",
        "a_sorted = np.sort(a, axis = 0) # axis 안주면 가로로 정렬하는게 기본이라 정렬이 잘 안됨\n",
        "print(a_sorted)\n",
        "print(np.flipud(a_sorted)) # 내림차순"
      ],
      "metadata": {
        "colab": {
          "base_uri": "https://localhost:8080/"
        },
        "id": "n6D1KAa0HGVs",
        "outputId": "9b17fe07-2217-43d4-c3b6-cb996ebccd70"
      },
      "execution_count": null,
      "outputs": [
        {
          "output_type": "stream",
          "name": "stdout",
          "text": [
            "[[ 1.28582625]\n",
            " [ 1.67308643]\n",
            " [-2.04226981]\n",
            " [-1.65935626]\n",
            " [ 0.90225207]\n",
            " [ 0.77086351]]\n",
            "[[-2.04226981]\n",
            " [-1.65935626]\n",
            " [ 0.77086351]\n",
            " [ 0.90225207]\n",
            " [ 1.28582625]\n",
            " [ 1.67308643]]\n",
            "[[ 1.67308643]\n",
            " [ 1.28582625]\n",
            " [ 0.90225207]\n",
            " [ 0.77086351]\n",
            " [-1.65935626]\n",
            " [-2.04226981]]\n"
          ]
        }
      ]
    },
    {
      "cell_type": "code",
      "source": [
        "A = np.random.randn(3, 4)\n",
        "print(A)\n",
        "print(np.sum(A))\n",
        "print(np.sum(A, axis = 1))\n",
        "print(np.sum(A, axis = 1, keepdims = True)) # 3행 1열짜리 2D array\n",
        "print(np.mean(A))\n",
        "print(np.mean(A, axis = 1))\n",
        "print(np.mean(A, axis = 1, keepdims = True))\n",
        "print(np.std(A)) # standard deviation 표준편차"
      ],
      "metadata": {
        "colab": {
          "base_uri": "https://localhost:8080/"
        },
        "id": "M8NBXrFWHg3J",
        "outputId": "09e95446-a8f6-4414-8006-11a920a25f4f"
      },
      "execution_count": null,
      "outputs": [
        {
          "output_type": "stream",
          "name": "stdout",
          "text": [
            "[[ 0.02186597  0.48869393  0.7989499   0.0439027 ]\n",
            " [-0.24939575 -0.97887747 -0.70791968 -0.05777605]\n",
            " [ 0.04897935  1.15031163  1.33641891  1.60607192]]\n",
            "3.501225360398335\n",
            "[ 1.3534125  -1.99396895  4.14178181]\n",
            "[[ 1.3534125 ]\n",
            " [-1.99396895]\n",
            " [ 4.14178181]]\n",
            "0.29176878003319456\n",
            "[ 0.33835313 -0.49849224  1.03544545]\n",
            "[[ 0.33835313]\n",
            " [-0.49849224]\n",
            " [ 1.03544545]]\n",
            "0.7677882747879778\n"
          ]
        }
      ]
    },
    {
      "cell_type": "code",
      "source": [
        "A = np.random.randint(1, 5, size = (12,)) # 1부터 5까지 랜덤한 int로 12개 (12, 1), (12, 1, 1) 로 사용 가능\n",
        "print(A)\n",
        "print(A.shape)\n",
        "\n",
        "B = A.reshape(2, 2, 3) # (x, y, z) : z개씩 y묶음으로 묶여진 게 x개.(y, z)개의 행렬이 x묶음\n",
        "print(B)\n",
        "print(B.ndim) # 3차원 행렬"
      ],
      "metadata": {
        "colab": {
          "base_uri": "https://localhost:8080/"
        },
        "id": "mCubKH5eH6V3",
        "outputId": "bf5675c3-4f22-480e-85da-5971283f6c40"
      },
      "execution_count": null,
      "outputs": [
        {
          "output_type": "stream",
          "name": "stdout",
          "text": [
            "[2 4 2 2 2 1 3 1 4 3 2 2]\n",
            "(12,)\n",
            "[[[2 4 2]\n",
            "  [2 2 1]]\n",
            "\n",
            " [[3 1 4]\n",
            "  [3 2 2]]]\n",
            "3\n"
          ]
        }
      ]
    },
    {
      "cell_type": "code",
      "source": [
        "a = np.array([1, 2, 3])\n",
        "b = np.array([2, 2, 1])\n",
        "\n",
        "# print(a@b) # 사용은 가능하지만, 내적을 구할 때엔 형태가 맞아야 함\n",
        "\n",
        "print(sum(a*b))\n",
        "\n",
        "# 열벡터로 변경 후 사용\n",
        "a = a.reshape(3,1)\n",
        "b = b.reshape(3,1)\n",
        "print(a.transpose()@b)\n",
        "print(a.T@b)\n",
        "\n",
        "A = np.random.randn(4, 3, 2)\n",
        "print(A.transpose(0, 1, 2).shape)\n",
        "print(A.transpose(2, 1, 0).shape)"
      ],
      "metadata": {
        "colab": {
          "base_uri": "https://localhost:8080/"
        },
        "id": "rRVTSdq3JPLG",
        "outputId": "1563f25d-03d2-43ba-b765-4cabc2d112e6"
      },
      "execution_count": null,
      "outputs": [
        {
          "output_type": "stream",
          "name": "stdout",
          "text": [
            "9\n",
            "[[1]\n",
            " [2]\n",
            " [3]]\n",
            "[[9]]\n",
            "[[9]]\n",
            "(4, 3, 2)\n",
            "(2, 3, 4)\n"
          ]
        }
      ]
    },
    {
      "cell_type": "code",
      "source": [
        "A = np.arange(20)\n",
        "print(A)\n",
        "print(A.reshape(4,5))\n",
        "print(A.reshape(4,-1).shape) # 4개 행이 될 수 있도록 열의 수를 맞춰라 (-1 사용)\n",
        "print(A.reshape(2, 5, -1).shape)\n",
        "\n",
        "print(A.reshape(1, -1).shape) # 2차원 행 벡터\n",
        "print(A.reshape(-1, 1).shape) # 2차원 열 벡터"
      ],
      "metadata": {
        "colab": {
          "base_uri": "https://localhost:8080/"
        },
        "id": "Qx5LRAlcMhO8",
        "outputId": "cab74190-0c6f-4cad-fac3-b5eb939140dd"
      },
      "execution_count": null,
      "outputs": [
        {
          "output_type": "stream",
          "name": "stdout",
          "text": [
            "[ 0  1  2  3  4  5  6  7  8  9 10 11 12 13 14 15 16 17 18 19]\n",
            "[[ 0  1  2  3  4]\n",
            " [ 5  6  7  8  9]\n",
            " [10 11 12 13 14]\n",
            " [15 16 17 18 19]]\n",
            "(4, 5)\n",
            "(2, 5, 2)\n",
            "(1, 20)\n",
            "(20, 1)\n"
          ]
        }
      ]
    },
    {
      "cell_type": "code",
      "source": [
        "x = np.random.randn(2,3,4,5,6)\n",
        "print(x[1,2,:,:,:].shape)\n",
        "print(x[1,2,...].shape) # x[1, 2, ...] 는 x[1, 2, :, :, :] 와 같습니다.\n",
        "print(x[:,:,:,:,3].shape)\n",
        "print(x[...,3].shape)\n",
        "print(x[1,...,3,:].shape)"
      ],
      "metadata": {
        "colab": {
          "base_uri": "https://localhost:8080/"
        },
        "id": "QlWMYxXwN1ot",
        "outputId": "dc6dc9fd-a52c-44a6-d497-85da3d76064f"
      },
      "execution_count": null,
      "outputs": [
        {
          "output_type": "stream",
          "name": "stdout",
          "text": [
            "(4, 5, 6)\n",
            "(4, 5, 6)\n",
            "(2, 3, 4, 5)\n",
            "(2, 3, 4, 5)\n",
            "(3, 4, 6)\n"
          ]
        }
      ]
    },
    {
      "cell_type": "code",
      "source": [
        "A = np.ones((2, 2))\n",
        "B = np.zeros((2, 2))\n",
        "C = np.hstack([A, B])\n",
        "D = np.vstack([A, B])\n",
        "E = np.block([A, B])\n",
        "F = np.block([B, A])\n",
        "G = np.block([[[A]],[[B]]]) # (2, 2, 2)\n",
        "print(C)\n",
        "print(D)\n",
        "print(E)\n",
        "print(F)\n",
        "print(G, G.shape)"
      ],
      "metadata": {
        "colab": {
          "base_uri": "https://localhost:8080/"
        },
        "id": "Wsi2YhZcPNGm",
        "outputId": "bf62384c-46a7-421d-e951-0afdec8b475e"
      },
      "execution_count": null,
      "outputs": [
        {
          "output_type": "stream",
          "name": "stdout",
          "text": [
            "[[1. 1. 0. 0.]\n",
            " [1. 1. 0. 0.]]\n",
            "[[1. 1.]\n",
            " [1. 1.]\n",
            " [0. 0.]\n",
            " [0. 0.]]\n",
            "[[1. 1. 0. 0.]\n",
            " [1. 1. 0. 0.]]\n",
            "[[0. 0. 1. 1.]\n",
            " [0. 0. 1. 1.]]\n",
            "[[[1. 1.]\n",
            "  [1. 1.]]\n",
            "\n",
            " [[0. 0.]\n",
            "  [0. 0.]]] (2, 2, 2)\n"
          ]
        }
      ]
    },
    {
      "cell_type": "code",
      "source": [
        "A = np.random.randn(1, 1, 1, 3, 1, 1, 4, 1)\n",
        "print(A)\n",
        "\n",
        "print(A.shape)\n",
        "print(A.squeeze().shape)\n",
        "print(A.squeeze(axis = (0, 2, 4, 5)).shape)"
      ],
      "metadata": {
        "colab": {
          "base_uri": "https://localhost:8080/"
        },
        "id": "WUXEm90vaWI_",
        "outputId": "950f5bf4-261d-40e8-e0bb-03d244249475"
      },
      "execution_count": null,
      "outputs": [
        {
          "output_type": "stream",
          "name": "stdout",
          "text": [
            "[[[[[[[[ 1.54610907]\n",
            "       [ 0.99136876]\n",
            "       [-0.3856635 ]\n",
            "       [-1.34074111]]]]\n",
            "\n",
            "\n",
            "\n",
            "    [[[[-1.90556206]\n",
            "       [-1.52093485]\n",
            "       [-0.55231767]\n",
            "       [ 1.0126385 ]]]]\n",
            "\n",
            "\n",
            "\n",
            "    [[[[ 1.35330156]\n",
            "       [ 0.53216366]\n",
            "       [-0.92949226]\n",
            "       [ 0.0287752 ]]]]]]]]\n",
            "(1, 1, 1, 3, 1, 1, 4, 1)\n",
            "(3, 4)\n",
            "(1, 3, 4, 1)\n"
          ]
        }
      ]
    },
    {
      "cell_type": "code",
      "source": [
        "A = np.random.randn(3,4)\n",
        "A1 = A[np.newaxis,:,:] # np.newaxis is None <- True\n",
        "print(A1.shape) # 1이 추가, 열이 추가돼고 np.newaxix, 3, 4로 진행되는 것임\n",
        "A2 = A[...,np.newaxis]\n",
        "print(A2.shape)\n",
        "A3 = A[:,np.newaxis,:]\n",
        "print(A3.shape)\n",
        "\n",
        "A1 = np.expand_dims(A, axis = 0)\n",
        "print(A1.shape)\n",
        "A2 = np.expand_dims(A, axis = 2)\n",
        "print(A2.shape)\n",
        "A3 = np.expand_dims(A, axis = 1)\n",
        "print(A3.shape)\n",
        "\n",
        "A1 = A.reshape(1, 3, 4)\n",
        "print(A1.shape)\n",
        "A2 = A.reshape(3, 4, 1)\n",
        "print(A2.shape)\n",
        "A3 = A.reshape(3, 1, 4)\n",
        "print(A3.shape)"
      ],
      "metadata": {
        "colab": {
          "base_uri": "https://localhost:8080/"
        },
        "id": "ejw19RxDeGZP",
        "outputId": "d94e3391-306c-4203-d7f8-809774de864e"
      },
      "execution_count": null,
      "outputs": [
        {
          "output_type": "stream",
          "name": "stdout",
          "text": [
            "(1, 3, 4)\n",
            "(3, 4, 1)\n",
            "(3, 1, 4)\n",
            "(1, 3, 4)\n",
            "(3, 4, 1)\n",
            "(3, 1, 4)\n",
            "(1, 3, 4)\n",
            "(3, 4, 1)\n",
            "(3, 1, 4)\n"
          ]
        }
      ]
    },
    {
      "cell_type": "code",
      "source": [
        "np.newaxis is None"
      ],
      "metadata": {
        "colab": {
          "base_uri": "https://localhost:8080/"
        },
        "id": "Kcq82xHjegCu",
        "outputId": "0371452c-a7a3-4da1-89d2-cbfe7b3d85f6"
      },
      "execution_count": null,
      "outputs": [
        {
          "output_type": "execute_result",
          "data": {
            "text/plain": [
              "True"
            ]
          },
          "metadata": {},
          "execution_count": 15
        }
      ]
    }
  ]
}