{
  "nbformat": 4,
  "nbformat_minor": 0,
  "metadata": {
    "colab": {
      "provenance": [],
      "authorship_tag": "ABX9TyOr7tDeuOsDNXdOnC8bnkDZ"
    },
    "kernelspec": {
      "name": "python3",
      "display_name": "Python 3"
    },
    "language_info": {
      "name": "python"
    }
  },
  "cells": [
    {
      "cell_type": "code",
      "execution_count": null,
      "metadata": {
        "colab": {
          "base_uri": "https://localhost:8080/"
        },
        "id": "JN9TASU-A4Ev",
        "outputId": "04220973-25f1-450e-8556-41a8f6742739"
      },
      "outputs": [
        {
          "output_type": "stream",
          "name": "stdout",
          "text": [
            "<class 'str'>\n"
          ]
        }
      ],
      "source": [
        "print(type(\"True\"))"
      ]
    },
    {
      "cell_type": "code",
      "source": [
        "# 동일한 코드\n",
        "a = []\n",
        "a.append(1)\n",
        "b = []\n",
        "b.append(1)\n",
        "print(a)\n",
        "print(b)"
      ],
      "metadata": {
        "colab": {
          "base_uri": "https://localhost:8080/"
        },
        "id": "B0ta8vUDBaKp",
        "outputId": "7405856d-a3a4-45a7-b884-621e1244e20d"
      },
      "execution_count": null,
      "outputs": [
        {
          "output_type": "stream",
          "name": "stdout",
          "text": [
            "[1]\n",
            "[1]\n"
          ]
        }
      ]
    },
    {
      "cell_type": "code",
      "source": [
        "a += \"abe\"\n",
        "print(a)\n",
        "\n",
        "b += [\"abe\"]\n",
        "print(b)"
      ],
      "metadata": {
        "colab": {
          "base_uri": "https://localhost:8080/"
        },
        "id": "sH602fmFBunE",
        "outputId": "11a690ea-8816-466a-8579-adee995bc29b"
      },
      "execution_count": null,
      "outputs": [
        {
          "output_type": "stream",
          "name": "stdout",
          "text": [
            "[1, 'a', 'b', 'e', 'a', 'b', 'e']\n",
            "[1, 'abe']\n"
          ]
        }
      ]
    },
    {
      "cell_type": "code",
      "source": [
        "loss_history = []\n",
        "loss = 1\n",
        "loss_history += [loss]\n",
        "loss = 0.5\n",
        "loss_history += [loss]\n",
        "loss = 0.1\n",
        "loss_history += [loss]\n",
        "print(loss_history)"
      ],
      "metadata": {
        "colab": {
          "base_uri": "https://localhost:8080/"
        },
        "id": "q_-iaGRHCJEJ",
        "outputId": "04b70687-1534-4c93-8cc7-2030dc3ac02c"
      },
      "execution_count": null,
      "outputs": [
        {
          "output_type": "stream",
          "name": "stdout",
          "text": [
            "[1, 0.5, 0.1]\n"
          ]
        }
      ]
    },
    {
      "cell_type": "code",
      "source": [
        "for i in range(1,5):\n",
        "  for j in range(i):\n",
        "    print(\"*\", end = \"\")\n",
        "  print(\" \")"
      ],
      "metadata": {
        "colab": {
          "base_uri": "https://localhost:8080/"
        },
        "id": "REeqU7E4CcBv",
        "outputId": "fa1341ad-9240-4849-d93a-b7cd0eeb70fb"
      },
      "execution_count": null,
      "outputs": [
        {
          "output_type": "stream",
          "name": "stdout",
          "text": [
            "* \n",
            "** \n",
            "*** \n",
            "**** \n"
          ]
        }
      ]
    },
    {
      "cell_type": "code",
      "source": [
        "a = \"*\"\n",
        "for i in range(1, 5):\n",
        "  print(a * i)"
      ],
      "metadata": {
        "colab": {
          "base_uri": "https://localhost:8080/"
        },
        "id": "CtTntxlzDMaL",
        "outputId": "17f78e3b-5085-40ac-bdbe-28f66b3bdec5"
      },
      "execution_count": null,
      "outputs": [
        {
          "output_type": "stream",
          "name": "stdout",
          "text": [
            "*\n",
            "**\n",
            "***\n",
            "****\n"
          ]
        }
      ]
    },
    {
      "cell_type": "code",
      "source": [
        "i = 1\n",
        "while i < 5:\n",
        "  print(\"*\" * i)\n",
        "  i += 1\n"
      ],
      "metadata": {
        "colab": {
          "base_uri": "https://localhost:8080/"
        },
        "id": "6olgbBI9D-83",
        "outputId": "4461d884-d795-43c0-c8b6-e565d40eb813"
      },
      "execution_count": null,
      "outputs": [
        {
          "output_type": "stream",
          "name": "stdout",
          "text": [
            "*\n",
            "**\n",
            "***\n",
            "****\n"
          ]
        }
      ]
    },
    {
      "cell_type": "code",
      "source": [
        "a = [1, 2, 3]\n",
        "print(len(a))"
      ],
      "metadata": {
        "colab": {
          "base_uri": "https://localhost:8080/"
        },
        "id": "rxRrONsHEb1C",
        "outputId": "3f005e8e-c2d9-48bc-8408-babab732fa08"
      },
      "execution_count": null,
      "outputs": [
        {
          "output_type": "stream",
          "name": "stdout",
          "text": [
            "3\n"
          ]
        }
      ]
    },
    {
      "cell_type": "code",
      "source": [
        "# 추가를 여러개 하고 싶으면?\n",
        "a.append([4,5])\n",
        "print(a)"
      ],
      "metadata": {
        "colab": {
          "base_uri": "https://localhost:8080/"
        },
        "id": "PQL6QiQ2FEOS",
        "outputId": "be22d282-457d-44db-b023-92262e1d16b2"
      },
      "execution_count": null,
      "outputs": [
        {
          "output_type": "stream",
          "name": "stdout",
          "text": [
            "[1, 2, 3, [4, 5]]\n"
          ]
        }
      ]
    },
    {
      "cell_type": "code",
      "source": [
        "a.extend([4,5])\n",
        "print(a)"
      ],
      "metadata": {
        "colab": {
          "base_uri": "https://localhost:8080/"
        },
        "id": "xfSX_ACyFQZf",
        "outputId": "1250ae11-6e27-4c46-f950-c8e99fc2d8e2"
      },
      "execution_count": null,
      "outputs": [
        {
          "output_type": "stream",
          "name": "stdout",
          "text": [
            "[1, 2, 3, [4, 5], 4, 5]\n"
          ]
        }
      ]
    },
    {
      "cell_type": "code",
      "source": [
        "a = [1, 2, 3]\n",
        "a += [4, 5]\n",
        "print(a)"
      ],
      "metadata": {
        "colab": {
          "base_uri": "https://localhost:8080/"
        },
        "id": "YE2Z8NrPHJq7",
        "outputId": "2cf7be1f-b4c9-4ab7-c49d-8664a0d74404"
      },
      "execution_count": null,
      "outputs": [
        {
          "output_type": "stream",
          "name": "stdout",
          "text": [
            "[1, 2, 3, 4, 5]\n"
          ]
        }
      ]
    },
    {
      "cell_type": "code",
      "source": [
        "# 리스트 중간에 값 넣기\n",
        "a = [1, 2, 3]\n",
        "a.insert(1, 100) #index, 넣을 것\n",
        "print(a)"
      ],
      "metadata": {
        "colab": {
          "base_uri": "https://localhost:8080/"
        },
        "id": "ZPCs8tYWHXHa",
        "outputId": "af6cd6cb-5598-4cbd-fd63-7b57e9eabde5"
      },
      "execution_count": null,
      "outputs": [
        {
          "output_type": "stream",
          "name": "stdout",
          "text": [
            "[1, 100, 2, 3]\n"
          ]
        }
      ]
    },
    {
      "cell_type": "code",
      "source": [
        "# 리스트 중간에 값 넣기\n",
        "a = [1, 2, 3]\n",
        "a.insert(1, [100, 200])\n",
        "print(a)"
      ],
      "metadata": {
        "colab": {
          "base_uri": "https://localhost:8080/"
        },
        "id": "Xl7n8ovPHmvv",
        "outputId": "11773858-2915-4e18-e487-aa4bc7e17630"
      },
      "execution_count": null,
      "outputs": [
        {
          "output_type": "stream",
          "name": "stdout",
          "text": [
            "[1, [100, 200], 2, 3]\n"
          ]
        }
      ]
    },
    {
      "cell_type": "code",
      "source": [
        "# 리스트 중간에 값 넣기\n",
        "a = [1, 2, 3]\n",
        "b = [100, 200]\n",
        "a[1:1] = b\n",
        "print(a)"
      ],
      "metadata": {
        "colab": {
          "base_uri": "https://localhost:8080/"
        },
        "id": "eNO5qgxaHr8Z",
        "outputId": "ee68b7af-116e-4c89-8a27-db18b68a0dfc"
      },
      "execution_count": null,
      "outputs": [
        {
          "output_type": "stream",
          "name": "stdout",
          "text": [
            "[1, 100, 200, 2, 3]\n"
          ]
        }
      ]
    },
    {
      "cell_type": "code",
      "source": [
        "a = [1, 2, 3]\n",
        "b = [100, 200]\n",
        "a[1:2] = b\n",
        "print(a)"
      ],
      "metadata": {
        "colab": {
          "base_uri": "https://localhost:8080/"
        },
        "id": "2q3xEJLiH6pP",
        "outputId": "2afc9db4-4eed-49c5-8e2b-9823f777981c"
      },
      "execution_count": null,
      "outputs": [
        {
          "output_type": "stream",
          "name": "stdout",
          "text": [
            "[1, 100, 200, 3]\n"
          ]
        }
      ]
    },
    {
      "cell_type": "code",
      "source": [
        "a = [1, 2, 3]\n",
        "a.pop()\n",
        "a.pop()\n",
        "print(a)"
      ],
      "metadata": {
        "colab": {
          "base_uri": "https://localhost:8080/"
        },
        "id": "P5H9V3KeIFuE",
        "outputId": "846b3a82-1525-4c41-ff40-7a11950dcd8e"
      },
      "execution_count": null,
      "outputs": [
        {
          "output_type": "stream",
          "name": "stdout",
          "text": [
            "[1]\n"
          ]
        }
      ]
    },
    {
      "cell_type": "code",
      "source": [
        "# 중복되어 있으면 왼쪽부터 없앰\n",
        "a = [1,2,3,4,5,3,5,3]\n",
        "a.remove(3)\n",
        "a.remove(3)\n",
        "a.remove(3)\n",
        "print(a)"
      ],
      "metadata": {
        "colab": {
          "base_uri": "https://localhost:8080/"
        },
        "id": "Vk7HJLrwISPB",
        "outputId": "8c657665-f4a0-4ec3-8cfe-185d58ccd9f5"
      },
      "execution_count": null,
      "outputs": [
        {
          "output_type": "stream",
          "name": "stdout",
          "text": [
            "[1, 2, 4, 5, 5]\n"
          ]
        }
      ]
    },
    {
      "cell_type": "code",
      "source": [
        "a = [1,2,3,4,5,3,5,3]\n",
        "a.index(3)"
      ],
      "metadata": {
        "colab": {
          "base_uri": "https://localhost:8080/"
        },
        "id": "QZqA8AIyIsEl",
        "outputId": "9cc976ba-fe6c-4d99-8e9c-275969d0aedb"
      },
      "execution_count": null,
      "outputs": [
        {
          "output_type": "execute_result",
          "data": {
            "text/plain": [
              "2"
            ]
          },
          "metadata": {},
          "execution_count": 31
        }
      ]
    },
    {
      "cell_type": "code",
      "source": [
        "a = [1,2,3,2,2,2]\n",
        "a.count(2)"
      ],
      "metadata": {
        "colab": {
          "base_uri": "https://localhost:8080/"
        },
        "id": "bmTdc-POIxGr",
        "outputId": "b77a1309-28b9-4975-9c9d-68210770a0f5"
      },
      "execution_count": null,
      "outputs": [
        {
          "output_type": "execute_result",
          "data": {
            "text/plain": [
              "4"
            ]
          },
          "metadata": {},
          "execution_count": 32
        }
      ]
    },
    {
      "cell_type": "code",
      "source": [
        "a = [1,2,3,4,5]\n",
        "a.reverse()\n",
        "print(a)"
      ],
      "metadata": {
        "colab": {
          "base_uri": "https://localhost:8080/"
        },
        "id": "1_NLGOjjI1gT",
        "outputId": "d48bf0c2-0d37-4fbe-c2c9-3daaec05a574"
      },
      "execution_count": null,
      "outputs": [
        {
          "output_type": "stream",
          "name": "stdout",
          "text": [
            "[5, 4, 3, 2, 1]\n"
          ]
        }
      ]
    },
    {
      "cell_type": "code",
      "source": [
        "# 정렬\n",
        "a = [1,5,2,7,34,2]\n",
        "a.sort()\n",
        "print(a)\n",
        "a.sort(reverse= True)\n",
        "print(a)"
      ],
      "metadata": {
        "colab": {
          "base_uri": "https://localhost:8080/"
        },
        "id": "1Euz8H4oI5HP",
        "outputId": "8a5ab534-4720-44ca-8c3e-d193e63653c2"
      },
      "execution_count": null,
      "outputs": [
        {
          "output_type": "stream",
          "name": "stdout",
          "text": [
            "[1, 2, 2, 5, 7, 34]\n",
            "[34, 7, 5, 2, 2, 1]\n"
          ]
        }
      ]
    },
    {
      "cell_type": "code",
      "source": [
        "# 내용 초기화\n",
        "a = [1,2,3]\n",
        "a.clear()\n",
        "\n",
        "# 정의 자체를 없애버림\n",
        "a = [1,2,3]\n",
        "del a\n",
        "print(a)"
      ],
      "metadata": {
        "colab": {
          "base_uri": "https://localhost:8080/",
          "height": 218
        },
        "id": "IbevPTD5JIMt",
        "outputId": "0e25c4b2-b688-4210-ddc8-9947ce7c0b94"
      },
      "execution_count": null,
      "outputs": [
        {
          "output_type": "error",
          "ename": "NameError",
          "evalue": "ignored",
          "traceback": [
            "\u001b[0;31m---------------------------------------------------------------------------\u001b[0m",
            "\u001b[0;31mNameError\u001b[0m                                 Traceback (most recent call last)",
            "\u001b[0;32m<ipython-input-37-24d66be1d15c>\u001b[0m in \u001b[0;36m<cell line: 8>\u001b[0;34m()\u001b[0m\n\u001b[1;32m      6\u001b[0m \u001b[0ma\u001b[0m \u001b[0;34m=\u001b[0m \u001b[0;34m[\u001b[0m\u001b[0;36m1\u001b[0m\u001b[0;34m,\u001b[0m\u001b[0;36m2\u001b[0m\u001b[0;34m,\u001b[0m\u001b[0;36m3\u001b[0m\u001b[0;34m]\u001b[0m\u001b[0;34m\u001b[0m\u001b[0;34m\u001b[0m\u001b[0m\n\u001b[1;32m      7\u001b[0m \u001b[0;32mdel\u001b[0m \u001b[0ma\u001b[0m\u001b[0;34m\u001b[0m\u001b[0;34m\u001b[0m\u001b[0m\n\u001b[0;32m----> 8\u001b[0;31m \u001b[0mprint\u001b[0m\u001b[0;34m(\u001b[0m\u001b[0ma\u001b[0m\u001b[0;34m)\u001b[0m\u001b[0;34m\u001b[0m\u001b[0;34m\u001b[0m\u001b[0m\n\u001b[0m",
            "\u001b[0;31mNameError\u001b[0m: name 'a' is not defined"
          ]
        }
      ]
    },
    {
      "cell_type": "code",
      "source": [
        "a = [1,2,3]\n",
        "b = a\n",
        "b[1] = 10\n",
        "print(\"a =\",a,\"b =\",b)\n",
        "a is b"
      ],
      "metadata": {
        "colab": {
          "base_uri": "https://localhost:8080/"
        },
        "id": "uUDdAJ-NJPWz",
        "outputId": "37d2e08c-8117-488f-983e-c0f10a6ffa13"
      },
      "execution_count": null,
      "outputs": [
        {
          "output_type": "stream",
          "name": "stdout",
          "text": [
            "a = [1, 10, 3] b = [1, 10, 3]\n"
          ]
        },
        {
          "output_type": "execute_result",
          "data": {
            "text/plain": [
              "True"
            ]
          },
          "metadata": {},
          "execution_count": 42
        }
      ]
    },
    {
      "cell_type": "code",
      "source": [
        "# 값만 같고 다른 존재\n",
        "a = [1,2,3]\n",
        "b = a.copy()\n",
        "b[1] = 10\n",
        "print(\"a =\",a,\"b =\",b)\n",
        "a is b # is 결과가 True면 값이 같이 바뀐다."
      ],
      "metadata": {
        "colab": {
          "base_uri": "https://localhost:8080/"
        },
        "id": "N9T9jpA_JkNT",
        "outputId": "b6dd2f0c-3933-4100-9a6a-aff0d0c300ca"
      },
      "execution_count": null,
      "outputs": [
        {
          "output_type": "stream",
          "name": "stdout",
          "text": [
            "a = [1, 2, 3] b = [1, 10, 3]\n"
          ]
        },
        {
          "output_type": "execute_result",
          "data": {
            "text/plain": [
              "False"
            ]
          },
          "metadata": {},
          "execution_count": 43
        }
      ]
    },
    {
      "cell_type": "code",
      "source": [
        "a = [1, 2, 3]\n",
        "print(min(a))\n",
        "print(max(a))\n",
        "print(round(1.515162632,3))"
      ],
      "metadata": {
        "colab": {
          "base_uri": "https://localhost:8080/"
        },
        "id": "fBZQ7DITJt9n",
        "outputId": "6d055e4d-e4e6-4652-f2b8-ace32188ca52"
      },
      "execution_count": null,
      "outputs": [
        {
          "output_type": "stream",
          "name": "stdout",
          "text": [
            "1\n",
            "3\n",
            "1.515\n"
          ]
        }
      ]
    },
    {
      "cell_type": "markdown",
      "source": [
        "리스트 표현식"
      ],
      "metadata": {
        "id": "D3uwRUwoKLAg"
      }
    },
    {
      "cell_type": "code",
      "source": [
        "a = [i for i in range(5)] # range(5) 안의 각각의 값들을 i라는 이름으로 각각 불러오고 i값으로 리스트를 형성"
      ],
      "metadata": {
        "colab": {
          "base_uri": "https://localhost:8080/"
        },
        "id": "hxz5ps7jKOd9",
        "outputId": "fce7e16a-a806-43bc-e769-281a6cdf4153"
      },
      "execution_count": null,
      "outputs": [
        {
          "output_type": "stream",
          "name": "stdout",
          "text": [
            "[0, 1, 2, 3, 4]\n"
          ]
        }
      ]
    },
    {
      "cell_type": "code",
      "source": [
        "a = [i+5 for i in range(5)]\n",
        "print(a)\n",
        "a += [10]\n",
        "print(a)"
      ],
      "metadata": {
        "colab": {
          "base_uri": "https://localhost:8080/"
        },
        "id": "kq3-0SwwKOYV",
        "outputId": "47bfbba4-7f74-4449-ecc8-2625580bbda8"
      },
      "execution_count": null,
      "outputs": [
        {
          "output_type": "stream",
          "name": "stdout",
          "text": [
            "[5, 6, 7, 8, 9]\n",
            "[5, 6, 7, 8, 9, 10]\n"
          ]
        }
      ]
    },
    {
      "cell_type": "code",
      "source": [
        "b = [1,2,3,4,5]\n",
        "a=[i+5 for i in b]\n",
        "print(a)"
      ],
      "metadata": {
        "colab": {
          "base_uri": "https://localhost:8080/"
        },
        "id": "fRUo4I6VKsHe",
        "outputId": "3380ad4f-3c1a-4934-9d79-15962d357515"
      },
      "execution_count": null,
      "outputs": [
        {
          "output_type": "stream",
          "name": "stdout",
          "text": [
            "[6, 7, 8, 9, 10]\n"
          ]
        }
      ]
    },
    {
      "cell_type": "code",
      "source": [
        "a = [i*2 for i in range(5)]\n",
        "print(a)"
      ],
      "metadata": {
        "colab": {
          "base_uri": "https://localhost:8080/"
        },
        "id": "l0KMBdEcK8bi",
        "outputId": "7d0b8d7c-c8a0-48e6-cc6c-e8b5105460fe"
      },
      "execution_count": null,
      "outputs": [
        {
          "output_type": "stream",
          "name": "stdout",
          "text": [
            "[0, 2, 4, 6, 8]\n"
          ]
        }
      ]
    },
    {
      "cell_type": "code",
      "source": [
        "a = [i**2 for i in range(5)]\n",
        "print(a)"
      ],
      "metadata": {
        "colab": {
          "base_uri": "https://localhost:8080/"
        },
        "id": "H5ARNp3ULH7y",
        "outputId": "a52c7432-29ba-421c-fb63-3cff45f12584"
      },
      "execution_count": null,
      "outputs": [
        {
          "output_type": "stream",
          "name": "stdout",
          "text": [
            "[0, 1, 4, 9, 16]\n"
          ]
        }
      ]
    },
    {
      "cell_type": "code",
      "source": [
        "a = [i-j for i in range(1,5) for j in range(1,5)]\n",
        "print(a)"
      ],
      "metadata": {
        "colab": {
          "base_uri": "https://localhost:8080/"
        },
        "id": "MonbUT0PLKCc",
        "outputId": "b340af71-0d6e-4ddb-8168-7a550210f37c"
      },
      "execution_count": null,
      "outputs": [
        {
          "output_type": "stream",
          "name": "stdout",
          "text": [
            "[0, -1, -2, -3, 1, 0, -1, -2, 2, 1, 0, -1, 3, 2, 1, 0]\n"
          ]
        }
      ]
    },
    {
      "cell_type": "code",
      "source": [
        "a = []\n",
        "for i in range(1,5):\n",
        "  for j in range(1,5):\n",
        "    a += [i-j]\n",
        "print(a)"
      ],
      "metadata": {
        "colab": {
          "base_uri": "https://localhost:8080/"
        },
        "id": "TOEXhqNKLUt6",
        "outputId": "e070e6c1-25d2-4cca-9a6b-1736d3337158"
      },
      "execution_count": null,
      "outputs": [
        {
          "output_type": "stream",
          "name": "stdout",
          "text": [
            "[0, -1, -2, -3, 1, 0, -1, -2, 2, 1, 0, -1, 3, 2, 1, 0]\n"
          ]
        }
      ]
    },
    {
      "cell_type": "code",
      "source": [
        "a = [i for i in range(10) if i%2==0] #range(10)안의 각각의 값들을 i라는 이름으로 각각 불러오고 i마다 조건문을 보고 True일 때만 i값으로 리스트 형성\n",
        "print(a)"
      ],
      "metadata": {
        "colab": {
          "base_uri": "https://localhost:8080/"
        },
        "id": "NDKIG-YqLmKe",
        "outputId": "1b1c706a-ec10-4ab3-ea1d-e5bbed039e69"
      },
      "execution_count": null,
      "outputs": [
        {
          "output_type": "stream",
          "name": "stdout",
          "text": [
            "[0, 2, 4, 6, 8]\n"
          ]
        }
      ]
    },
    {
      "cell_type": "code",
      "source": [
        "a = []\n",
        "for i in range(10):\n",
        "  if i%2 == 0:\n",
        "    a+=[i]\n",
        "print(a)"
      ],
      "metadata": {
        "colab": {
          "base_uri": "https://localhost:8080/"
        },
        "id": "rqobpfFwMYvZ",
        "outputId": "648549a3-e56f-4cd7-cbbb-de402a3ac170"
      },
      "execution_count": null,
      "outputs": [
        {
          "output_type": "stream",
          "name": "stdout",
          "text": [
            "[0, 2, 4, 6, 8]\n"
          ]
        }
      ]
    },
    {
      "cell_type": "code",
      "source": [
        "a = [i for i in range(10) if i<5]\n",
        "print(a)"
      ],
      "metadata": {
        "colab": {
          "base_uri": "https://localhost:8080/"
        },
        "id": "g5mx7hnqMs6m",
        "outputId": "646c2294-59d2-4def-cc86-01a369ad7dd1"
      },
      "execution_count": null,
      "outputs": [
        {
          "output_type": "stream",
          "name": "stdout",
          "text": [
            "[0, 1, 2, 3, 4]\n"
          ]
        }
      ]
    },
    {
      "cell_type": "markdown",
      "source": [
        "리스트 속에 리스트"
      ],
      "metadata": {
        "id": "ebYuJ1K-NG4m"
      }
    },
    {
      "cell_type": "code",
      "source": [
        "a = [[1,2,3],[4,6]]\n",
        "print(a, len(a))\n",
        "\n",
        "b = [[2,3,4],[1,2,3]]\n",
        "print(b, len(b))"
      ],
      "metadata": {
        "colab": {
          "base_uri": "https://localhost:8080/"
        },
        "id": "6d8DQ2d7M2lN",
        "outputId": "36bfe719-b66c-4aac-a57f-0af6b66659c6"
      },
      "execution_count": null,
      "outputs": [
        {
          "output_type": "stream",
          "name": "stdout",
          "text": [
            "[[1, 2, 3], [4, 6]] 2\n",
            "[[2, 3, 4], [1, 2, 3]] 2\n"
          ]
        }
      ]
    },
    {
      "cell_type": "code",
      "source": [
        "a = [[1,2,3],[4,6]]\n",
        "print(a[0])\n",
        "print(a[1])\n",
        "print(a[0][0])\n",
        "a[0][0]= 500\n",
        "print(a)"
      ],
      "metadata": {
        "colab": {
          "base_uri": "https://localhost:8080/"
        },
        "id": "DP8pgRW2NOL8",
        "outputId": "0650640c-6972-4188-8e73-c1a03ce39fd5"
      },
      "execution_count": null,
      "outputs": [
        {
          "output_type": "stream",
          "name": "stdout",
          "text": [
            "[1, 2, 3]\n",
            "[4, 6]\n",
            "1\n",
            "[[500, 2, 3], [4, 6]]\n"
          ]
        }
      ]
    },
    {
      "cell_type": "code",
      "source": [
        "a = [[1,2,3],[4,5,6]]\n",
        "for i in a:\n",
        "  print(i)\n",
        "print()\n",
        "\n",
        "# 개수가 동일할 때\n",
        "for x,y,z in a:\n",
        "  print(x,y,z)\n",
        "print()\n",
        "\n",
        "for i in a:\n",
        "  for j in i:\n",
        "    print(j, end = \" \")\n",
        "  print()\n",
        "print()\n",
        "\n",
        "# 개수가 동일하지 않을 때\n",
        "for i in range(len(a)):\n",
        "  for j in range(len(a[i])): # i번째 행이 가지는 열의 개수\n",
        "    print(a[i][j], end = \" \")\n",
        "  print()"
      ],
      "metadata": {
        "colab": {
          "base_uri": "https://localhost:8080/"
        },
        "id": "z4A9P1LINo6c",
        "outputId": "0847b20c-11a5-4119-f236-ccec9e98fe64"
      },
      "execution_count": null,
      "outputs": [
        {
          "output_type": "stream",
          "name": "stdout",
          "text": [
            "[1, 2, 3]\n",
            "[4, 5, 6]\n",
            "\n",
            "1 2 3\n",
            "4 5 6\n",
            "\n",
            "1 2 3 \n",
            "4 5 6 \n",
            "\n",
            "1 2 3 \n",
            "4 5 6 \n"
          ]
        }
      ]
    },
    {
      "cell_type": "code",
      "source": [
        "a = []\n",
        "for i in range(3):\n",
        "  line = []\n",
        "  for j in range(2):\n",
        "    line += [0]\n",
        "  a+= [line]\n",
        "print(a)\n",
        "\n",
        "# a = [0,0],[0,0],[0,0]"
      ],
      "metadata": {
        "colab": {
          "base_uri": "https://localhost:8080/"
        },
        "id": "mgdiRVK1OBTG",
        "outputId": "a430cfcd-4330-4aaf-9eae-3306b1b0e6da"
      },
      "execution_count": null,
      "outputs": [
        {
          "output_type": "stream",
          "name": "stdout",
          "text": [
            "[[0, 0], [0, 0], [0, 0]]\n"
          ]
        }
      ]
    },
    {
      "cell_type": "code",
      "source": [
        "a = [[0 for _ in range(2)] for _ in range(3)]\n",
        "print(a)"
      ],
      "metadata": {
        "colab": {
          "base_uri": "https://localhost:8080/"
        },
        "id": "kKFKAarpP4Z0",
        "outputId": "540daf19-16c9-470d-85a8-e85eca7fc0c2"
      },
      "execution_count": null,
      "outputs": [
        {
          "output_type": "stream",
          "name": "stdout",
          "text": [
            "[[0, 0], [0, 0], [0, 0]]\n"
          ]
        }
      ]
    },
    {
      "cell_type": "code",
      "source": [
        "a = [[0]*2 for _ in range(3)]\n",
        "print(a)\n",
        "\n",
        "b = [[0]*2]*3\n",
        "print(b)"
      ],
      "metadata": {
        "colab": {
          "base_uri": "https://localhost:8080/"
        },
        "id": "ReyIrE3mPKfZ",
        "outputId": "1ad9e8dd-e696-4373-be2d-9f31421dfbda"
      },
      "execution_count": null,
      "outputs": [
        {
          "output_type": "stream",
          "name": "stdout",
          "text": [
            "[[0, 0], [0, 0], [0, 0]]\n",
            "[[0, 0], [0, 0], [0, 0]]\n"
          ]
        }
      ]
    },
    {
      "cell_type": "code",
      "source": [
        "a = [3,1,3,2]\n",
        "b = []\n",
        "for i in a:\n",
        "  line = []\n",
        "  for j in range(i):\n",
        "    line += [0]\n",
        "  b+= [line]\n",
        "print(b)\n",
        "# [[0,0,0],[0],[0,0,0],[0,0]]"
      ],
      "metadata": {
        "colab": {
          "base_uri": "https://localhost:8080/"
        },
        "id": "HGo1wq-_UT2V",
        "outputId": "805392f1-f318-4e86-b4f5-00e315334c73"
      },
      "execution_count": null,
      "outputs": [
        {
          "output_type": "stream",
          "name": "stdout",
          "text": [
            "[[0, 0, 0], [0], [0, 0, 0], [0, 0]]\n"
          ]
        }
      ]
    },
    {
      "cell_type": "code",
      "source": [
        "a = [3,1,3,2]\n",
        "b = [[0]* i for i in a]\n",
        "print(b)\n",
        "# [[0,0,0],[0],[0,0,0],[0,0]]"
      ],
      "metadata": {
        "colab": {
          "base_uri": "https://localhost:8080/"
        },
        "id": "w-M3Gb4gSdkt",
        "outputId": "88cbeae8-5639-4bed-b389-d57b554c263f"
      },
      "execution_count": null,
      "outputs": [
        {
          "output_type": "stream",
          "name": "stdout",
          "text": [
            "[[0, 0, 0], [0], [0, 0, 0], [0, 0]]\n"
          ]
        }
      ]
    },
    {
      "cell_type": "code",
      "source": [
        "a = [[1,2],[3,4]]\n",
        "b = a.copy()\n",
        "b[0][0] = 100\n",
        "print(a,b)"
      ],
      "metadata": {
        "colab": {
          "base_uri": "https://localhost:8080/"
        },
        "id": "DxUxagzaT7qM",
        "outputId": "fb05fcc5-4623-4366-b0e4-97c186a1e07f"
      },
      "execution_count": null,
      "outputs": [
        {
          "output_type": "stream",
          "name": "stdout",
          "text": [
            "[[100, 2], [3, 4]] [[100, 2], [3, 4]]\n"
          ]
        }
      ]
    },
    {
      "cell_type": "code",
      "source": [
        "# 2차원 배열 copy 방법 - softcopy, hardcopy 찾아보기\n",
        "import copy\n",
        "a = [[1,2],[3,4]]\n",
        "b=copy.deepcopy(a)\n",
        "b[0][0] = 100\n",
        "print(a,b)"
      ],
      "metadata": {
        "colab": {
          "base_uri": "https://localhost:8080/"
        },
        "id": "1yQ2x2iWU22-",
        "outputId": "d9e44b3b-03d6-404a-8192-19fd05757a58"
      },
      "execution_count": null,
      "outputs": [
        {
          "output_type": "stream",
          "name": "stdout",
          "text": [
            "[[1, 2], [3, 4]] [[100, 2], [3, 4]]\n"
          ]
        }
      ]
    },
    {
      "cell_type": "markdown",
      "source": [
        "헷갈리는 리스트 표현식 -> 앞에거부터 써내려가며 for문 만들기"
      ],
      "metadata": {
        "id": "JHerfagJVY32"
      }
    },
    {
      "cell_type": "code",
      "source": [
        "print([i for i in range(3) for j in range(3)])\n",
        "\n",
        "a = []\n",
        "for i in range(3):\n",
        "  for j in range(3):\n",
        "    a+= [i]\n",
        "print(a)"
      ],
      "metadata": {
        "colab": {
          "base_uri": "https://localhost:8080/"
        },
        "id": "ASF4VvMmVdPO",
        "outputId": "d00eacb4-4de9-4016-ce2f-9cb7304a4574"
      },
      "execution_count": null,
      "outputs": [
        {
          "output_type": "stream",
          "name": "stdout",
          "text": [
            "[0, 0, 0, 1, 1, 1, 2, 2, 2]\n",
            "[0, 0, 0, 1, 1, 1, 2, 2, 2]\n"
          ]
        }
      ]
    },
    {
      "cell_type": "markdown",
      "source": [
        "print 응용"
      ],
      "metadata": {
        "id": "toVFjtB4DCcZ"
      }
    },
    {
      "cell_type": "code",
      "source": [
        "a = 1\n",
        "b = 2\n",
        "c = \"hyes\"\n",
        "\n",
        "print(\"a = {}, b = {}, c = {}\".format(a,b,c))"
      ],
      "metadata": {
        "id": "ggjRSQpKVkfs",
        "colab": {
          "base_uri": "https://localhost:8080/"
        },
        "outputId": "ae763695-2baf-4e5f-a782-f17d0dedf52f"
      },
      "execution_count": null,
      "outputs": [
        {
          "output_type": "stream",
          "name": "stdout",
          "text": [
            "a = 1, b = 2, c = hyes\n"
          ]
        }
      ]
    },
    {
      "cell_type": "code",
      "source": [
        "a = 1\n",
        "b = 2\n",
        "c = \"hyes\"\n",
        "\n",
        "print(\"a = {num1}, b = {num2}, c = {str1}\".format(str1=c, num1=a, num2=b))"
      ],
      "metadata": {
        "colab": {
          "base_uri": "https://localhost:8080/"
        },
        "id": "GMRYK-9pDNhs",
        "outputId": "3d20f6dd-c55a-4e46-e3ea-20100fab5c2f"
      },
      "execution_count": null,
      "outputs": [
        {
          "output_type": "stream",
          "name": "stdout",
          "text": [
            "a = 1, b = 2, c = hyes\n"
          ]
        }
      ]
    },
    {
      "cell_type": "code",
      "source": [
        "a = 1\n",
        "b = 2\n",
        "c = \"hyes\"\n",
        "\n",
        "print(f\"a = {a}, b = {b}, c = {c}\")"
      ],
      "metadata": {
        "colab": {
          "base_uri": "https://localhost:8080/"
        },
        "id": "EnOAL1JgDw9C",
        "outputId": "dc6d626a-724f-41c9-fb8c-e3537a8c4493"
      },
      "execution_count": null,
      "outputs": [
        {
          "output_type": "stream",
          "name": "stdout",
          "text": [
            "a = 1, b = 2, c = hyes\n"
          ]
        }
      ]
    },
    {
      "cell_type": "markdown",
      "source": [
        "텍스트 파일 만들고 쓰기"
      ],
      "metadata": {
        "id": "zVuI0qlaEqRG"
      }
    },
    {
      "cell_type": "code",
      "source": [
        "import os\n",
        "folder_name = \"saved\"\n",
        "if not os.path.exists(folder_name):\n",
        "  os.makedirs(folder_name)\n",
        "\n",
        "with open(\"saved/Hello.txt\",\"w\") as f: # 열린채로 들여쓰기 있는 부분 실행\n",
        "  f.write(\"Hello World\\n\")\n",
        "  f.write(\"Hello World\\n\")\n",
        "  f.write(\"Hello World\\n\")\n",
        "  f.write(\"Hello World\\n\")"
      ],
      "metadata": {
        "id": "bSh8RCZOD7Ad"
      },
      "execution_count": null,
      "outputs": []
    },
    {
      "cell_type": "code",
      "source": [
        "with open(\"saved/Hello.txt\",\"r\") as f:\n",
        "  s = f.read()\n",
        "print(s)\n",
        "type(s)"
      ],
      "metadata": {
        "colab": {
          "base_uri": "https://localhost:8080/"
        },
        "id": "nyoVS1JzFQ8j",
        "outputId": "392d814e-f4d3-4b1c-a6da-6c835edb9b1c"
      },
      "execution_count": null,
      "outputs": [
        {
          "output_type": "stream",
          "name": "stdout",
          "text": [
            "Hello World\n",
            "Hello World\n",
            "Hello World\n",
            "Hello World\n",
            "\n"
          ]
        },
        {
          "output_type": "execute_result",
          "data": {
            "text/plain": [
              "str"
            ]
          },
          "metadata": {},
          "execution_count": 22
        }
      ]
    },
    {
      "cell_type": "code",
      "source": [
        "# 한줄씩 읽고 싶을 때\n",
        "with open(\"saved/Hello.txt\",\"r\") as f:\n",
        "  s = f.readline() # 한줄씩 리스트에 넣는다\n",
        "  print(s)\n",
        "len(s)"
      ],
      "metadata": {
        "colab": {
          "base_uri": "https://localhost:8080/"
        },
        "id": "AawoT4LMF9PP",
        "outputId": "7f5df5f8-221c-4743-cf41-935328c2e046"
      },
      "execution_count": null,
      "outputs": [
        {
          "output_type": "stream",
          "name": "stdout",
          "text": [
            "Hello World\n",
            "\n"
          ]
        },
        {
          "output_type": "execute_result",
          "data": {
            "text/plain": [
              "12"
            ]
          },
          "metadata": {},
          "execution_count": 23
        }
      ]
    },
    {
      "cell_type": "code",
      "source": [
        "# 리스트 하나에 전체 다 넣기\n",
        "with open(\"saved/Hello.txt\",\"r\") as f:\n",
        "  s = f.readlines() # 한줄씩 리스트에 넣는다\n",
        "  print(s)\n",
        "len(s)"
      ],
      "metadata": {
        "colab": {
          "base_uri": "https://localhost:8080/"
        },
        "id": "zzDvigoQGQ9Z",
        "outputId": "ae6b3f1c-f4eb-43e0-d68b-8f4d8adacabc"
      },
      "execution_count": null,
      "outputs": [
        {
          "output_type": "stream",
          "name": "stdout",
          "text": [
            "['Hello World\\n', 'Hello World\\n', 'Hello World\\n', 'Hello World\\n']\n"
          ]
        },
        {
          "output_type": "execute_result",
          "data": {
            "text/plain": [
              "4"
            ]
          },
          "metadata": {},
          "execution_count": 18
        }
      ]
    },
    {
      "cell_type": "code",
      "source": [
        "# 한줄씩 읽고 싶을 때\n",
        "with open(\"saved/Hello.txt\",\"r\") as f:\n",
        "  for i in range(3):\n",
        "    s = f.readline() # for문을 사용하여 한줄씩 읽는다\n",
        "    print(s)\n",
        "    type(s)"
      ],
      "metadata": {
        "colab": {
          "base_uri": "https://localhost:8080/"
        },
        "id": "uSWFVIisFnNq",
        "outputId": "7da38741-c95a-4ecc-8dca-a1551251a31c"
      },
      "execution_count": null,
      "outputs": [
        {
          "output_type": "stream",
          "name": "stdout",
          "text": [
            "Hello World\n",
            "\n",
            "Hello World\n",
            "\n",
            "Hello World\n",
            "\n"
          ]
        }
      ]
    },
    {
      "cell_type": "code",
      "source": [
        "# 몇줄인지 모를 때\n",
        "with open(\"saved/Hello.txt\",\"r\") as f:\n",
        "  line = None # None으로 작성해야 공백(\"\")과 구별되어 while이 돌아감\n",
        "  while line != \"\":\n",
        "    line = f.readline()\n",
        "    s=f.readline()\n",
        "    print(line, end =\"\")"
      ],
      "metadata": {
        "colab": {
          "base_uri": "https://localhost:8080/"
        },
        "id": "4MULvtjlGhji",
        "outputId": "53473bab-b204-4874-98c7-daf262806e7b"
      },
      "execution_count": null,
      "outputs": [
        {
          "metadata": {
            "tags": null
          },
          "name": "stdout",
          "output_type": "stream",
          "text": [
            "Hello World\n",
            "Hello World\n"
          ]
        }
      ]
    },
    {
      "cell_type": "markdown",
      "source": [
        "튜플"
      ],
      "metadata": {
        "id": "G11F19P2bYmx"
      }
    },
    {
      "cell_type": "code",
      "source": [
        "a = (1, \"z\", 3)\n",
        "b = [1, 2, 3]\n",
        "print(type(a))\n",
        "print(type(b))"
      ],
      "metadata": {
        "id": "yXk2QTWqbZlc",
        "colab": {
          "base_uri": "https://localhost:8080/"
        },
        "outputId": "c34262c3-2073-4c96-84ff-19bfda35059b"
      },
      "execution_count": null,
      "outputs": [
        {
          "output_type": "stream",
          "name": "stdout",
          "text": [
            "<class 'tuple'>\n",
            "<class 'list'>\n"
          ]
        }
      ]
    },
    {
      "cell_type": "code",
      "source": [
        "b = tuple(range(10))\n",
        "print(b)"
      ],
      "metadata": {
        "id": "P3Bqy_CIcUH2",
        "colab": {
          "base_uri": "https://localhost:8080/"
        },
        "outputId": "16095f96-3e79-4fb1-d537-c54314a52768"
      },
      "execution_count": null,
      "outputs": [
        {
          "output_type": "stream",
          "name": "stdout",
          "text": [
            "(0, 1, 2, 3, 4, 5, 6, 7, 8, 9)\n"
          ]
        }
      ]
    },
    {
      "cell_type": "code",
      "source": [
        "a = list(range(10))\n",
        "b = tuple(range(10))\n",
        "\n",
        "c = tuple(a)\n",
        "d = list(b)\n",
        "\n",
        "print(type(a))\n",
        "print(type(b))\n",
        "print(type(c))\n",
        "print(type(d))"
      ],
      "metadata": {
        "id": "UhtoDaGggLsL",
        "colab": {
          "base_uri": "https://localhost:8080/"
        },
        "outputId": "0ae2f162-6928-4924-808d-77b917da7116"
      },
      "execution_count": null,
      "outputs": [
        {
          "output_type": "stream",
          "name": "stdout",
          "text": [
            "<class 'list'>\n",
            "<class 'tuple'>\n",
            "<class 'tuple'>\n",
            "<class 'list'>\n"
          ]
        }
      ]
    },
    {
      "cell_type": "markdown",
      "source": [
        "in은 있냐를 물어봄"
      ],
      "metadata": {
        "id": "aEzISnU9gjPA"
      }
    },
    {
      "cell_type": "code",
      "source": [
        "a = list(range(10))\n",
        "b = tuple(range(10))\n",
        "c = range(10)\n",
        "print(1 in a)\n",
        "print(15 in a)\n",
        "print(1 not in b)\n",
        "print(5 in c)"
      ],
      "metadata": {
        "id": "76lxpJlIgYBG",
        "colab": {
          "base_uri": "https://localhost:8080/"
        },
        "outputId": "41b06e80-c58a-4399-f1d2-608d77b7253b"
      },
      "execution_count": null,
      "outputs": [
        {
          "output_type": "stream",
          "name": "stdout",
          "text": [
            "True\n",
            "False\n",
            "False\n",
            "True\n"
          ]
        }
      ]
    },
    {
      "cell_type": "code",
      "source": [
        "s = \"Hello\"\n",
        "print(\"h\" in s)\n",
        "print(\"H\" in s)"
      ],
      "metadata": {
        "id": "kgVAUn3QgvVi",
        "colab": {
          "base_uri": "https://localhost:8080/"
        },
        "outputId": "f6da0251-d78e-495c-81d7-5ae15f16a692"
      },
      "execution_count": null,
      "outputs": [
        {
          "output_type": "stream",
          "name": "stdout",
          "text": [
            "False\n",
            "True\n"
          ]
        }
      ]
    },
    {
      "cell_type": "markdown",
      "source": [
        "리스트의 기본 연산과 인덱싱"
      ],
      "metadata": {
        "id": "arG_F_QehUkQ"
      }
    },
    {
      "cell_type": "code",
      "source": [
        "a = [1, 2, 3]\n",
        "b = a + a\n",
        "c = a * 3\n",
        "d = a * (12//4)\n",
        "e = a * int(12/4)\n",
        "print(a)\n",
        "print(b)\n",
        "print(c)\n",
        "print(d)\n",
        "print(e)"
      ],
      "metadata": {
        "id": "_PqVL8PKhDTC",
        "colab": {
          "base_uri": "https://localhost:8080/"
        },
        "outputId": "a61a479d-468e-4fba-ea9f-926b8ac271c8"
      },
      "execution_count": null,
      "outputs": [
        {
          "output_type": "stream",
          "name": "stdout",
          "text": [
            "[1, 2, 3]\n",
            "[1, 2, 3, 1, 2, 3]\n",
            "[1, 2, 3, 1, 2, 3, 1, 2, 3]\n",
            "[1, 2, 3, 1, 2, 3, 1, 2, 3]\n",
            "[1, 2, 3, 1, 2, 3, 1, 2, 3]\n"
          ]
        }
      ]
    },
    {
      "cell_type": "code",
      "source": [
        "s = \"hello\"\n",
        "s2 = [\"hello\"]\n",
        "print(s,len(s), type(s))\n",
        "print(s2,len(s), type(s2))"
      ],
      "metadata": {
        "colab": {
          "base_uri": "https://localhost:8080/"
        },
        "id": "bSIrlbZhhcQc",
        "outputId": "4fe014f0-4614-4aca-b721-48654c03e971"
      },
      "execution_count": null,
      "outputs": [
        {
          "output_type": "stream",
          "name": "stdout",
          "text": [
            "hello 5 <class 'str'>\n",
            "['hello'] 5 <class 'list'>\n"
          ]
        }
      ]
    },
    {
      "cell_type": "code",
      "source": [
        "a = [1, 2, 3]\n",
        "print(a[0])"
      ],
      "metadata": {
        "colab": {
          "base_uri": "https://localhost:8080/"
        },
        "id": "iso9djnViAkf",
        "outputId": "d7d8cc10-3238-493d-927a-4e6502401cb9"
      },
      "execution_count": null,
      "outputs": [
        {
          "output_type": "stream",
          "name": "stdout",
          "text": [
            "1\n"
          ]
        }
      ]
    },
    {
      "cell_type": "code",
      "source": [
        "r = range(0, 10, 2)\n",
        "print(r[0], r[1], r[2])"
      ],
      "metadata": {
        "colab": {
          "base_uri": "https://localhost:8080/"
        },
        "id": "jWe52c5KiQYe",
        "outputId": "ac1d82c8-39eb-4bfa-b54f-41d49195a9e9"
      },
      "execution_count": null,
      "outputs": [
        {
          "output_type": "stream",
          "name": "stdout",
          "text": [
            "0 2 4\n"
          ]
        }
      ]
    },
    {
      "cell_type": "code",
      "source": [
        "a = [1, 2, 3]\n",
        "a[0] = 3\n",
        "a[1] = 5\n",
        "a[2] = 10\n",
        "\n",
        "print(a)"
      ],
      "metadata": {
        "colab": {
          "base_uri": "https://localhost:8080/"
        },
        "id": "fj6B_G3lihJy",
        "outputId": "7ae01b7d-2d74-4870-904e-ea15a08a6552"
      },
      "execution_count": null,
      "outputs": [
        {
          "output_type": "stream",
          "name": "stdout",
          "text": [
            "[3, 5, 10]\n"
          ]
        }
      ]
    },
    {
      "cell_type": "code",
      "source": [
        "# tuple은 값을 새로 넣을 수 없음\n",
        "a = (1, 2, 3)\n",
        "a[0] = 1 # immutable"
      ],
      "metadata": {
        "colab": {
          "base_uri": "https://localhost:8080/",
          "height": 200
        },
        "id": "LHhqv-n6iwj7",
        "outputId": "091f4d6e-8828-4076-a189-677c7f3906ab"
      },
      "execution_count": null,
      "outputs": [
        {
          "output_type": "error",
          "ename": "TypeError",
          "evalue": "ignored",
          "traceback": [
            "\u001b[0;31m---------------------------------------------------------------------------\u001b[0m",
            "\u001b[0;31mTypeError\u001b[0m                                 Traceback (most recent call last)",
            "\u001b[0;32m<ipython-input-14-99cf613254ef>\u001b[0m in \u001b[0;36m<cell line: 2>\u001b[0;34m()\u001b[0m\n\u001b[1;32m      1\u001b[0m \u001b[0ma\u001b[0m \u001b[0;34m=\u001b[0m \u001b[0;34m(\u001b[0m\u001b[0;36m1\u001b[0m\u001b[0;34m,\u001b[0m \u001b[0;36m2\u001b[0m\u001b[0;34m,\u001b[0m \u001b[0;36m3\u001b[0m\u001b[0;34m)\u001b[0m\u001b[0;34m\u001b[0m\u001b[0;34m\u001b[0m\u001b[0m\n\u001b[0;32m----> 2\u001b[0;31m \u001b[0ma\u001b[0m\u001b[0;34m[\u001b[0m\u001b[0;36m0\u001b[0m\u001b[0;34m]\u001b[0m \u001b[0;34m=\u001b[0m \u001b[0;36m1\u001b[0m\u001b[0;34m\u001b[0m\u001b[0;34m\u001b[0m\u001b[0m\n\u001b[0m",
            "\u001b[0;31mTypeError\u001b[0m: 'tuple' object does not support item assignment"
          ]
        }
      ]
    },
    {
      "cell_type": "code",
      "source": [
        "a = [1, 2, 3]\n",
        "del a[1]\n",
        "print(a)"
      ],
      "metadata": {
        "colab": {
          "base_uri": "https://localhost:8080/"
        },
        "id": "3tdK6fK4i2y5",
        "outputId": "7a00ced1-d1e9-4fcf-bb30-9e8677a8f06f"
      },
      "execution_count": null,
      "outputs": [
        {
          "output_type": "stream",
          "name": "stdout",
          "text": [
            "[1, 3]\n"
          ]
        }
      ]
    },
    {
      "cell_type": "markdown",
      "source": [
        "슬라이스!! 중요"
      ],
      "metadata": {
        "id": "4QxktG4gjOzO"
      }
    },
    {
      "cell_type": "code",
      "source": [
        "a = [1, 2, 3, 4, 5, 6, 7, 8, 9, 10]\n",
        "print(a[:])"
      ],
      "metadata": {
        "colab": {
          "base_uri": "https://localhost:8080/"
        },
        "id": "BdhI_4W3jLBg",
        "outputId": "ac27c64b-5c4b-464f-9db5-9a190456450d"
      },
      "execution_count": null,
      "outputs": [
        {
          "output_type": "stream",
          "name": "stdout",
          "text": [
            "[1, 2, 3, 4, 5, 6, 7, 8, 9, 10]\n"
          ]
        }
      ]
    },
    {
      "cell_type": "code",
      "source": [
        "a = [1, 2, 3, 4, 5, 6, 7, 8, 9, 10]\n",
        "print(a[:7:2])\n",
        "print(a[7::2])\n",
        "print(a[::2])"
      ],
      "metadata": {
        "colab": {
          "base_uri": "https://localhost:8080/"
        },
        "id": "dqi6lJHEjVt2",
        "outputId": "543bcf01-0e7a-46cb-ca7e-d0aad7c0d60d"
      },
      "execution_count": null,
      "outputs": [
        {
          "output_type": "stream",
          "name": "stdout",
          "text": [
            "[1, 3, 5, 7]\n",
            "[8, 10]\n",
            "[1, 3, 5, 7, 9]\n"
          ]
        }
      ]
    },
    {
      "cell_type": "code",
      "source": [
        "a = [[1, 2], [3, 4]]\n",
        "print(a[::])\n",
        "print(a[:])"
      ],
      "metadata": {
        "colab": {
          "base_uri": "https://localhost:8080/"
        },
        "id": "9ALj7rh5kQcs",
        "outputId": "18767983-b10e-4be0-d54a-6826c3ee7f14"
      },
      "execution_count": null,
      "outputs": [
        {
          "output_type": "stream",
          "name": "stdout",
          "text": [
            "[[1, 2], [3, 4]]\n",
            "[[1, 2], [3, 4]]\n"
          ]
        }
      ]
    },
    {
      "cell_type": "code",
      "source": [
        "a = [1, 2, 3, 4, 5]\n",
        "del a[1:3]\n",
        "print(a)"
      ],
      "metadata": {
        "colab": {
          "base_uri": "https://localhost:8080/"
        },
        "id": "do5TsGr6km85",
        "outputId": "9d3d5be9-a45a-4eaa-8196-58af6824b5a1"
      },
      "execution_count": null,
      "outputs": [
        {
          "output_type": "stream",
          "name": "stdout",
          "text": [
            "[1, 4, 5]\n"
          ]
        }
      ]
    },
    {
      "cell_type": "markdown",
      "source": [
        "딕셔너리"
      ],
      "metadata": {
        "id": "2e-0ru5jiMmh"
      }
    },
    {
      "cell_type": "code",
      "source": [
        "# key : value 형태, 숫자 문잦 뭐든 키, 값으로 사용 가능\n",
        "# 키에는 수정할 수 없는 튜플은 되고 리스트는 안됨\n",
        "# 값에는 튜플도 되고 리스트도 됨\n",
        "\n",
        "dic1 = {\"a\": 1, \"b\": 2, \"c\" : 3, 100: \"inthyes\" }\n",
        "\n",
        "print(dic1[\"a\"], dic1[\"b\"], dic1[100])\n",
        "print(len(dic1))\n",
        "print(dic1.keys())\n",
        "print(dic1.values())\n",
        "print(dic1.items())"
      ],
      "metadata": {
        "colab": {
          "base_uri": "https://localhost:8080/"
        },
        "id": "GO7fAaOfkwv4",
        "outputId": "1b65e656-ba86-4766-b261-30b5d3b5e2b4"
      },
      "execution_count": null,
      "outputs": [
        {
          "output_type": "stream",
          "name": "stdout",
          "text": [
            "1 2 inthyes\n",
            "4\n",
            "dict_keys(['a', 'b', 'c', 100])\n",
            "dict_values([1, 2, 3, 'inthyes'])\n",
            "dict_items([('a', 1), ('b', 2), ('c', 3), (100, 'inthyes')])\n"
          ]
        }
      ]
    },
    {
      "cell_type": "code",
      "source": [
        "a = dict(zip([\"a\",\"b\"],[1, 2]))\n",
        "print(a)\n",
        "\n",
        "b = list(zip([\"a\",\"b\"],[1, 2]))\n",
        "print(b)"
      ],
      "metadata": {
        "colab": {
          "base_uri": "https://localhost:8080/"
        },
        "id": "zb9eup4iitA8",
        "outputId": "9e291074-b4b6-406a-db11-c3c9623fd4cb"
      },
      "execution_count": null,
      "outputs": [
        {
          "output_type": "stream",
          "name": "stdout",
          "text": [
            "{'a': 1, 'b': 2}\n",
            "[('a', 1), ('b', 2)]\n"
          ]
        }
      ]
    },
    {
      "cell_type": "code",
      "source": [
        "dic1 = {\"a\": 1, \"b\": 2, \"c\": 3, \"d\": 4}\n",
        "dic1[\"a\"] = 100; dic1[\"b\"] = 200; dic1[\"c\"] = 300; dic1[\"d\"] = 400\n",
        "print(dic1)\n",
        "\n",
        "dic1[\"e\"] = \"새로운 키\"\n",
        "print(dic1)\n",
        "\n",
        "print(\"a\" in dic1) # \"a\"라는 키가 있느냐\n",
        "print(100 in dic1)"
      ],
      "metadata": {
        "colab": {
          "base_uri": "https://localhost:8080/"
        },
        "id": "_e1tsZrFjG8v",
        "outputId": "2c476294-65e5-467f-dea2-e37868bd2c6a"
      },
      "execution_count": null,
      "outputs": [
        {
          "output_type": "stream",
          "name": "stdout",
          "text": [
            "{'a': 100, 'b': 200, 'c': 300, 'd': 400}\n",
            "{'a': 100, 'b': 200, 'c': 300, 'd': 400, 'e': '새로운 키'}\n",
            "True\n",
            "False\n"
          ]
        }
      ]
    },
    {
      "cell_type": "markdown",
      "source": [
        "함수"
      ],
      "metadata": {
        "id": "9LN7zx1Kkacq"
      }
    },
    {
      "cell_type": "code",
      "source": [
        "def f(x): # x라는 이름의 변수를 입력으로 받아 x**2을 출력하는 f라는 이름의 함수를 정의해라\n",
        "  return x**2\n",
        "\n",
        "f(-2) # function call. print라는 함수를 여태 부른것이다."
      ],
      "metadata": {
        "colab": {
          "base_uri": "https://localhost:8080/"
        },
        "id": "cDFY-vypjvQq",
        "outputId": "2a403c96-13f2-40bb-a373-eb524506b135"
      },
      "execution_count": null,
      "outputs": [
        {
          "output_type": "execute_result",
          "data": {
            "text/plain": [
              "4"
            ]
          },
          "metadata": {},
          "execution_count": 12
        }
      ]
    },
    {
      "cell_type": "code",
      "source": [
        "def say():\n",
        "  print(\"Hello World!\")\n",
        "\n",
        "say()"
      ],
      "metadata": {
        "colab": {
          "base_uri": "https://localhost:8080/"
        },
        "id": "VTn3Q4HhkmaY",
        "outputId": "54b93f7e-3723-4eae-fdd7-2f46b2bd2e80"
      },
      "execution_count": null,
      "outputs": [
        {
          "output_type": "stream",
          "name": "stdout",
          "text": [
            "Hello World!\n"
          ]
        }
      ]
    },
    {
      "cell_type": "code",
      "source": [
        "def add(a,b):\n",
        "  print(a+b)\n",
        "add(1,2)"
      ],
      "metadata": {
        "colab": {
          "base_uri": "https://localhost:8080/"
        },
        "id": "HHYEqq7ZlBok",
        "outputId": "e95f8331-7485-4b6a-ed5d-b189c35614ca"
      },
      "execution_count": null,
      "outputs": [
        {
          "output_type": "stream",
          "name": "stdout",
          "text": [
            "3\n"
          ]
        }
      ]
    },
    {
      "cell_type": "code",
      "source": [
        "def add(a,b):\n",
        "  return a+b\n",
        "\n",
        "c = add(1,2)\n",
        "print(c)"
      ],
      "metadata": {
        "colab": {
          "base_uri": "https://localhost:8080/"
        },
        "id": "M6ahPbWslIl4",
        "outputId": "fed6e299-e566-4580-b206-00a1bd363974"
      },
      "execution_count": null,
      "outputs": [
        {
          "output_type": "stream",
          "name": "stdout",
          "text": [
            "3\n"
          ]
        }
      ]
    },
    {
      "cell_type": "code",
      "source": [
        "def add(a,b):\n",
        "  c = a+b # 로컬변수\n",
        "  return c\n",
        "\n",
        "add(1,2)\n",
        "print(c)"
      ],
      "metadata": {
        "colab": {
          "base_uri": "https://localhost:8080/",
          "height": 218
        },
        "id": "w5oFBQYelOjq",
        "outputId": "858ffc6b-4f6d-40d6-d2dc-704c1d16e62a"
      },
      "execution_count": null,
      "outputs": [
        {
          "output_type": "error",
          "ename": "NameError",
          "evalue": "ignored",
          "traceback": [
            "\u001b[0;31m---------------------------------------------------------------------------\u001b[0m",
            "\u001b[0;31mNameError\u001b[0m                                 Traceback (most recent call last)",
            "\u001b[0;32m<ipython-input-2-412d426928f3>\u001b[0m in \u001b[0;36m<cell line: 6>\u001b[0;34m()\u001b[0m\n\u001b[1;32m      4\u001b[0m \u001b[0;34m\u001b[0m\u001b[0m\n\u001b[1;32m      5\u001b[0m \u001b[0madd\u001b[0m\u001b[0;34m(\u001b[0m\u001b[0;36m1\u001b[0m\u001b[0;34m,\u001b[0m\u001b[0;36m2\u001b[0m\u001b[0;34m)\u001b[0m\u001b[0;34m\u001b[0m\u001b[0;34m\u001b[0m\u001b[0m\n\u001b[0;32m----> 6\u001b[0;31m \u001b[0mprint\u001b[0m\u001b[0;34m(\u001b[0m\u001b[0mc\u001b[0m\u001b[0;34m)\u001b[0m\u001b[0;34m\u001b[0m\u001b[0;34m\u001b[0m\u001b[0m\n\u001b[0m",
            "\u001b[0;31mNameError\u001b[0m: name 'c' is not defined"
          ]
        }
      ]
    },
    {
      "cell_type": "code",
      "source": [
        "def f(a):\n",
        "  a = 5\n",
        "\n",
        "a = 3\n",
        "f(a)\n",
        "print(a)\n",
        "\n",
        "# call by assignment\n",
        "def f(x):\n",
        "  x[0] = 5 # 내부에서 리스트 자체에 접근하면 (mutable하면 속 값이 변해서 밖에서도 변해있음)\n",
        "\n",
        "a = [1, 2]\n",
        "f(a)\n",
        "print(a)"
      ],
      "metadata": {
        "colab": {
          "base_uri": "https://localhost:8080/"
        },
        "id": "D3OlcegDmFQL",
        "outputId": "d0f6dfc3-dd5c-419a-8104-c61729048aa2"
      },
      "execution_count": null,
      "outputs": [
        {
          "output_type": "stream",
          "name": "stdout",
          "text": [
            "3\n",
            "[5, 2]\n"
          ]
        }
      ]
    },
    {
      "cell_type": "code",
      "source": [
        "def add_sub(a, b):\n",
        "  c = a + b\n",
        "  d = a - b\n",
        "  return c, d\n",
        "\n",
        "x, y = add_sub(10, 20)\n",
        "z = add_sub(10, 20) # 하나로 받으면? 튜플로 묶어서 줌\n",
        "print(x, y)\n",
        "print(z)"
      ],
      "metadata": {
        "colab": {
          "base_uri": "https://localhost:8080/"
        },
        "id": "1heYCwg3meq2",
        "outputId": "580edb59-a2ed-4279-966b-b0619f97b573"
      },
      "execution_count": null,
      "outputs": [
        {
          "output_type": "stream",
          "name": "stdout",
          "text": [
            "30 -10\n",
            "(30, -10)\n"
          ]
        }
      ]
    },
    {
      "cell_type": "code",
      "source": [
        "def add(a, b):\n",
        "  return a+b\n",
        "def mul(a, b):\n",
        "  return a*b\n",
        "\n",
        "def show_addmul1(a,b):\n",
        "  print(add(a,b))\n",
        "  print(mul(a,b))\n",
        "\n",
        "show_addmul1(10,20)\n",
        "\n",
        "def show_addmul2(a,b):\n",
        "  return(add(a,b), mul(a,b))\n",
        "\n",
        "x = show_addmul2(10, 20)\n",
        "print(x[0])\n",
        "print(x[1])"
      ],
      "metadata": {
        "colab": {
          "base_uri": "https://localhost:8080/"
        },
        "id": "rocAYsyempqu",
        "outputId": "b506043b-d601-41df-b5dd-6499b0a0faa3"
      },
      "execution_count": null,
      "outputs": [
        {
          "output_type": "stream",
          "name": "stdout",
          "text": [
            "30\n",
            "200\n",
            "30\n",
            "200\n"
          ]
        }
      ]
    },
    {
      "cell_type": "code",
      "source": [
        "x = (10, 20)\n",
        "print(x)\n",
        "\n",
        "print(*x) # 언패킹\n",
        "show_addmul1(*x)"
      ],
      "metadata": {
        "colab": {
          "base_uri": "https://localhost:8080/"
        },
        "id": "Usn5NQqknDJ9",
        "outputId": "8777833e-2ada-4de1-9bb2-06d19c10ff85"
      },
      "execution_count": null,
      "outputs": [
        {
          "output_type": "stream",
          "name": "stdout",
          "text": [
            "(10, 20)\n",
            "10 20\n",
            "30\n",
            "200\n"
          ]
        }
      ]
    },
    {
      "cell_type": "code",
      "source": [
        "def my_func(*a): # a는 튜플로 패킹되어있다.\n",
        "  print(f\"a에는 {a}가 들어가있다. 타입은 {type(a)}라고 한다.\")\n",
        "\n",
        "my_func()\n",
        "my_func(1)\n",
        "my_func(1, 2, 3, 4, 5)"
      ],
      "metadata": {
        "colab": {
          "base_uri": "https://localhost:8080/"
        },
        "id": "y-wQhYUpn4_V",
        "outputId": "6e8e975f-9d96-441d-d7ed-23b1d16ea2a2"
      },
      "execution_count": null,
      "outputs": [
        {
          "output_type": "stream",
          "name": "stdout",
          "text": [
            "a에는 ()가 들어가있다. 타입은 <class 'tuple'>라고 한다.\n",
            "a에는 (1,)가 들어가있다. 타입은 <class 'tuple'>라고 한다.\n",
            "a에는 (1, 2, 3, 4, 5)가 들어가있다. 타입은 <class 'tuple'>라고 한다.\n"
          ]
        }
      ]
    },
    {
      "cell_type": "code",
      "source": [
        "def my_func(*args): # args: arguments\n",
        "  print(f\"args에는 {args}가 들어가있다. 타입은 {type(args)}라고 한다.\")\n",
        "  for i in args:\n",
        "    print(i)\n",
        "\n",
        "my_func()\n",
        "my_func(1)\n",
        "my_func(1, 2, 3, 4, 5)"
      ],
      "metadata": {
        "colab": {
          "base_uri": "https://localhost:8080/"
        },
        "id": "LcaUeTylog1m",
        "outputId": "93eb29f4-463f-4d90-ae59-b4b19b29f6e9"
      },
      "execution_count": null,
      "outputs": [
        {
          "output_type": "stream",
          "name": "stdout",
          "text": [
            "args에는 ()가 들어가있다. 타입은 <class 'tuple'>라고 한다.\n",
            "args에는 (1,)가 들어가있다. 타입은 <class 'tuple'>라고 한다.\n",
            "1\n",
            "args에는 (1, 2, 3, 4, 5)가 들어가있다. 타입은 <class 'tuple'>라고 한다.\n",
            "1\n",
            "2\n",
            "3\n",
            "4\n",
            "5\n"
          ]
        }
      ]
    },
    {
      "cell_type": "code",
      "source": [
        "def my_func(*args):\n",
        "  for i in args:\n",
        "    print(i)\n",
        "\n",
        "my_func(\"1\",\"2\",\"3\")\n",
        "# 구독자 이름을 print하려는데 가벽적임"
      ],
      "metadata": {
        "colab": {
          "base_uri": "https://localhost:8080/"
        },
        "id": "oMraQcSupMPN",
        "outputId": "ce3ddfbc-fdf2-4f93-c241-92760d728078"
      },
      "execution_count": null,
      "outputs": [
        {
          "output_type": "stream",
          "name": "stdout",
          "text": [
            "1\n",
            "2\n",
            "3\n"
          ]
        }
      ]
    },
    {
      "cell_type": "code",
      "source": [
        "def introduce(name, age, address):\n",
        "  print(f\"이름은 {name}이고 나이는 {age}살이고 사는데는 {address}이다.\")\n",
        "\n",
        "introduce(\"혜수\",100,\"한국\")\n",
        "introduce(name = \"혜수\",address = \"한국\", age = 100)\n",
        "\n",
        "name = \"hyesoo\"\n",
        "address = \"한국\"\n",
        "age = 100\n",
        "introduce(name = name, address = address, age = age)"
      ],
      "metadata": {
        "colab": {
          "base_uri": "https://localhost:8080/"
        },
        "id": "IwlRrB6cpWrq",
        "outputId": "16e64ecb-e583-489c-a2cd-b3a04b199a4a"
      },
      "execution_count": null,
      "outputs": [
        {
          "output_type": "stream",
          "name": "stdout",
          "text": [
            "이름은 혜수이고 나이는 100살이고 사는데는 한국이다.\n",
            "이름은 혜수이고 나이는 100살이고 사는데는 한국이다.\n",
            "이름은 hyesoo이고 나이는 40살이고 사는데는 한국이다.\n"
          ]
        }
      ]
    },
    {
      "cell_type": "code",
      "source": [
        "def introduce1(name, age, address):\n",
        "  print(f\"이름은 {name}이고 나이는 {age}살이고 사는데는 {address}이다.\")\n",
        "\n",
        "\n",
        "def introduce2(name, age = \"비밀\", address = \"비밀\"):\n",
        "  print(f\"이름은 {name}이고 나이는 {age}살이고 사는데는 {address}이다.\")\n",
        "\n",
        "# intorduce1(name = \"hyesoo\", age = 100) # error\n",
        "introduce2(name = \"hyesoo\", age = 100) # 나머지는 디폴트값으로 출력"
      ],
      "metadata": {
        "colab": {
          "base_uri": "https://localhost:8080/"
        },
        "id": "ECRGtKvYpqir",
        "outputId": "796424da-8903-4561-cb98-6e88aa46398d"
      },
      "execution_count": null,
      "outputs": [
        {
          "output_type": "stream",
          "name": "stdout",
          "text": [
            "이름은 hyesoo이고 나이는 100살이고 사는데는 비밀이다.\n"
          ]
        }
      ]
    },
    {
      "cell_type": "code",
      "source": [
        "# def introduce3(age = \"비밀\", name, address = \"비밀\"): # 디폴트 값을 정할것들은 모두 뒤쪽에 작성.\n",
        "#   print(f\"이름은 {name}이고 나이는 {age}살이고 사는데는 {address}이다.\")\n",
        "\n",
        "def introduce4(name = \"비밀\", age = \"비밀\", address = \"비밀\"):\n",
        "  print(f\"이름은 {name}이고 나이는 {age}살이고 사는데는 {address}이다.\")\n",
        "\n",
        "introduce4()"
      ],
      "metadata": {
        "colab": {
          "base_uri": "https://localhost:8080/"
        },
        "id": "Z3StWyK1qe06",
        "outputId": "f82a1b06-4620-42ee-d162-bd31d0a9e7d3"
      },
      "execution_count": null,
      "outputs": [
        {
          "output_type": "stream",
          "name": "stdout",
          "text": [
            "이름은 비밀이고 나이는 비밀살이고 사는데는 비밀이다.\n"
          ]
        }
      ]
    },
    {
      "cell_type": "code",
      "source": [
        "d = {\"name\": \"hyes\", \"age\": 100, \"address\":\"한국\"}\n",
        "print(*d) # 딕셔너리에 언패킹하면 키를 출력\n",
        "\n",
        "introduce4(*d) # introduce4(\"name\", \"age\", \"address\") 와 동일\n",
        "\n",
        "print({**d})\n",
        "introduce4(**d) # introduce4(\"name\" = \"hyesoo\", \"age\" = 100, \"address\" = \"한국\") 과 동일\n",
        "\n",
        "print(*(1,2,3))\n",
        "print(**(1,2,3)) # 딕셔너리에 사용 가능"
      ],
      "metadata": {
        "colab": {
          "base_uri": "https://localhost:8080/",
          "height": 310
        },
        "id": "Vy9Jyonlravt",
        "outputId": "0cb6f56a-74d4-4fdc-e7a1-68cbe054cfd6"
      },
      "execution_count": null,
      "outputs": [
        {
          "output_type": "stream",
          "name": "stdout",
          "text": [
            "name age address\n",
            "이름은 name이고 나이는 age살이고 사는데는 address이다.\n",
            "{'name': 'hyes', 'age': 100, 'address': '한국'}\n",
            "이름은 hyes이고 나이는 100살이고 사는데는 한국이다.\n",
            "1 2 3\n"
          ]
        },
        {
          "output_type": "error",
          "ename": "TypeError",
          "evalue": "ignored",
          "traceback": [
            "\u001b[0;31m---------------------------------------------------------------------------\u001b[0m",
            "\u001b[0;31mTypeError\u001b[0m                                 Traceback (most recent call last)",
            "\u001b[0;32m<ipython-input-39-d48059635a4f>\u001b[0m in \u001b[0;36m<cell line: 10>\u001b[0;34m()\u001b[0m\n\u001b[1;32m      8\u001b[0m \u001b[0;34m\u001b[0m\u001b[0m\n\u001b[1;32m      9\u001b[0m \u001b[0mprint\u001b[0m\u001b[0;34m(\u001b[0m\u001b[0;34m*\u001b[0m\u001b[0;34m(\u001b[0m\u001b[0;36m1\u001b[0m\u001b[0;34m,\u001b[0m\u001b[0;36m2\u001b[0m\u001b[0;34m,\u001b[0m\u001b[0;36m3\u001b[0m\u001b[0;34m)\u001b[0m\u001b[0;34m)\u001b[0m\u001b[0;34m\u001b[0m\u001b[0;34m\u001b[0m\u001b[0m\n\u001b[0;32m---> 10\u001b[0;31m \u001b[0mprint\u001b[0m\u001b[0;34m(\u001b[0m\u001b[0;34m**\u001b[0m\u001b[0;34m(\u001b[0m\u001b[0;36m1\u001b[0m\u001b[0;34m,\u001b[0m\u001b[0;36m2\u001b[0m\u001b[0;34m,\u001b[0m\u001b[0;36m3\u001b[0m\u001b[0;34m)\u001b[0m\u001b[0;34m)\u001b[0m\u001b[0;34m\u001b[0m\u001b[0;34m\u001b[0m\u001b[0m\n\u001b[0m",
            "\u001b[0;31mTypeError\u001b[0m: print() argument after ** must be a mapping, not tuple"
          ]
        }
      ]
    },
    {
      "cell_type": "code",
      "source": [
        "def my_func(**kwrgs): #kwargs: keyward arguments, 딕셔너리로 묶어 받는다\n",
        "  print(f\"k에는 {k}가 들어가있다. 타입은 {type(k)}라고 한다.\")\n",
        "\n",
        "my_func(name = \"hyesoo\")\n",
        "my_func(name = \"hyesoo\", age= 100, address= \"한국\")"
      ],
      "metadata": {
        "colab": {
          "base_uri": "https://localhost:8080/"
        },
        "id": "Y96e5sRWriC7",
        "outputId": "29060d6a-30ba-47b1-eca5-758b759aea70"
      },
      "execution_count": null,
      "outputs": [
        {
          "output_type": "stream",
          "name": "stdout",
          "text": [
            "k에는 {'name': 'hyesoo'}가 들어가있다. 타입은 <class 'dict'>라고 한다.\n"
          ]
        }
      ]
    },
    {
      "cell_type": "code",
      "source": [
        "def introduce(**kwargs):\n",
        "  if \"name\" in kwargs: # \"name\"이라는 key가 kwargs에 있다면\n",
        "    print(\"이름은\", kwargs[\"name\"], \"입니다.\")\n",
        "  if \"age\" in kwargs:\n",
        "    print(\"나이는\", kwargs[\"age\"], \"입니다.\")\n",
        "  if \"address\" in kwargs:\n",
        "    print(\"주소는\", kwargs[\"address\"], \"입니다.\")\n",
        "\n",
        "introduce(name = \"hyesoo\", age= 100, address= \"한국\")\n",
        "\n",
        "introduce(name = \"hyesoo\") # 해당되지 않을 경우 아예 안뜨게 됨"
      ],
      "metadata": {
        "colab": {
          "base_uri": "https://localhost:8080/"
        },
        "id": "5-cuiO-GsbHw",
        "outputId": "ff491324-66d4-41bc-e673-dab07f060b97"
      },
      "execution_count": null,
      "outputs": [
        {
          "output_type": "stream",
          "name": "stdout",
          "text": [
            "이름은 hyesoo 입니다.\n",
            "나이는 100 입니다.\n",
            "주소는 한국 입니다.\n",
            "이름은 hyesoo 입니다.\n"
          ]
        }
      ]
    },
    {
      "cell_type": "markdown",
      "source": [
        "로컬변수와 글로벌변수"
      ],
      "metadata": {
        "id": "tvLk52pMpXGd"
      }
    },
    {
      "cell_type": "code",
      "source": [
        "EPOCH = 2\n",
        "BATCH = 5 # 글로벌 변수\n",
        "\n",
        "def train(weight): # weight는 매개변수, weight는 0을 실행\n",
        "  x = 1 # x는 로컬 변수\n",
        "  for i in range(EPOCH): # 글로벌변수는 안에서도 사용 가능\n",
        "    for j in range(BATCH):\n",
        "      print(f\"{i}번째 Epoch이며 {j}번째 batch 입니다.\")\n",
        "      weight += 1\n",
        "  return weight\n",
        "train(1)"
      ],
      "metadata": {
        "id": "7JHrROJ5tIWO",
        "colab": {
          "base_uri": "https://localhost:8080/"
        },
        "outputId": "50dfe887-fc4a-4857-bc93-1d722c5b0291"
      },
      "execution_count": 2,
      "outputs": [
        {
          "output_type": "stream",
          "name": "stdout",
          "text": [
            "0번째 Epoch이며 0번째 batch 입니다.\n",
            "0번째 Epoch이며 1번째 batch 입니다.\n",
            "0번째 Epoch이며 2번째 batch 입니다.\n",
            "0번째 Epoch이며 3번째 batch 입니다.\n",
            "0번째 Epoch이며 4번째 batch 입니다.\n",
            "1번째 Epoch이며 0번째 batch 입니다.\n",
            "1번째 Epoch이며 1번째 batch 입니다.\n",
            "1번째 Epoch이며 2번째 batch 입니다.\n",
            "1번째 Epoch이며 3번째 batch 입니다.\n",
            "1번째 Epoch이며 4번째 batch 입니다.\n"
          ]
        },
        {
          "output_type": "execute_result",
          "data": {
            "text/plain": [
              "11"
            ]
          },
          "metadata": {},
          "execution_count": 2
        }
      ]
    },
    {
      "cell_type": "code",
      "source": [
        "def f():\n",
        "  global x # 안에서 글로벌 변수를 만들 수 있다(밖에서는 굳이 gloabl을 안붙여도 됨\n",
        "  x = 20\n",
        "  print(x)\n",
        "f()\n",
        "print(x)"
      ],
      "metadata": {
        "colab": {
          "base_uri": "https://localhost:8080/"
        },
        "id": "zaKtaE_Hqtw3",
        "outputId": "3b6b0c9c-c3ed-4434-c80c-74d926764b52"
      },
      "execution_count": 4,
      "outputs": [
        {
          "output_type": "stream",
          "name": "stdout",
          "text": [
            "20\n",
            "20\n"
          ]
        }
      ]
    },
    {
      "cell_type": "code",
      "source": [
        "x = 10\n",
        "def f():\n",
        "  x = 100\n",
        "  print(x)\n",
        "\n",
        "f() # 로컬 변수 출력\n",
        "print(x) # 글로벌 변수 출력"
      ],
      "metadata": {
        "colab": {
          "base_uri": "https://localhost:8080/"
        },
        "id": "1GDgwP2TrODC",
        "outputId": "872def72-4b07-46f8-c893-4b01d1e4a476"
      },
      "execution_count": 8,
      "outputs": [
        {
          "output_type": "stream",
          "name": "stdout",
          "text": [
            "100\n",
            "10\n"
          ]
        }
      ]
    },
    {
      "cell_type": "code",
      "source": [
        "x = 10\n",
        "def f():\n",
        "  global x\n",
        "  # print(x) # 여기에선 10\n",
        "  x = 20\n",
        "  print(x)\n",
        "\n",
        "f()\n",
        "print(x) # 글로벌이 변경"
      ],
      "metadata": {
        "colab": {
          "base_uri": "https://localhost:8080/"
        },
        "id": "QbmZoG7grc-R",
        "outputId": "7f2a0bf9-dc85-46e0-ec00-27b3a90e5a7c"
      },
      "execution_count": 10,
      "outputs": [
        {
          "output_type": "stream",
          "name": "stdout",
          "text": [
            "10\n",
            "20\n",
            "20\n"
          ]
        }
      ]
    },
    {
      "cell_type": "markdown",
      "source": [
        "람다 표현식"
      ],
      "metadata": {
        "id": "zuici8S8r_kF"
      }
    },
    {
      "cell_type": "code",
      "source": [
        "def plus_ten(x):\n",
        "  return x+10\n",
        "\n",
        "plus_ten(10)"
      ],
      "metadata": {
        "colab": {
          "base_uri": "https://localhost:8080/"
        },
        "id": "v8vcQDBgsA-b",
        "outputId": "430adb6f-4287-4262-e427-8d050c9b3744"
      },
      "execution_count": 11,
      "outputs": [
        {
          "output_type": "execute_result",
          "data": {
            "text/plain": [
              "20"
            ]
          },
          "metadata": {},
          "execution_count": 11
        }
      ]
    },
    {
      "cell_type": "code",
      "source": [
        "plus_ten = lambda x: x+10 # 입력 x, 출력 x+10\n",
        "plus_ten(10)"
      ],
      "metadata": {
        "colab": {
          "base_uri": "https://localhost:8080/"
        },
        "id": "lGIb-lZUsQYN",
        "outputId": "1c6235f5-f361-445c-d0b5-91105fab3a95"
      },
      "execution_count": 12,
      "outputs": [
        {
          "output_type": "execute_result",
          "data": {
            "text/plain": [
              "20"
            ]
          },
          "metadata": {},
          "execution_count": 12
        }
      ]
    },
    {
      "cell_type": "code",
      "source": [
        "(lambda x: x+10)(10)"
      ],
      "metadata": {
        "colab": {
          "base_uri": "https://localhost:8080/"
        },
        "id": "b2HfyShAsf60",
        "outputId": "4d0ba77b-049f-45a6-fd34-14c36b5064ff"
      },
      "execution_count": 13,
      "outputs": [
        {
          "output_type": "execute_result",
          "data": {
            "text/plain": [
              "20"
            ]
          },
          "metadata": {},
          "execution_count": 13
        }
      ]
    },
    {
      "cell_type": "code",
      "source": [
        "def plus_ten(x):\n",
        "  return x + 10\n",
        "\n",
        "print(list(map(plus_ten, [1, 2, 3]))) # map은 함수를 입력으로 받는 함수\n",
        "#넣을 것(list)을 여러번 call해서 값을 얻는다\n",
        "print(list(map(lambda x : 10 + x, [1, 2, 3])))"
      ],
      "metadata": {
        "colab": {
          "base_uri": "https://localhost:8080/"
        },
        "id": "M24Kqm0uswLF",
        "outputId": "943fe94f-28ba-4ef3-ca47-ff5b3011fe69"
      },
      "execution_count": 17,
      "outputs": [
        {
          "output_type": "stream",
          "name": "stdout",
          "text": [
            "[11, 12, 13]\n",
            "[11, 12, 13]\n"
          ]
        }
      ]
    },
    {
      "cell_type": "code",
      "source": [
        "f = lambda a, b : a+b\n",
        "f(10,20)"
      ],
      "metadata": {
        "colab": {
          "base_uri": "https://localhost:8080/"
        },
        "id": "t2CtFm8DuLe4",
        "outputId": "2c2d79c7-a643-4cab-8e75-44c5dc10e79e"
      },
      "execution_count": 18,
      "outputs": [
        {
          "output_type": "execute_result",
          "data": {
            "text/plain": [
              "30"
            ]
          },
          "metadata": {},
          "execution_count": 18
        }
      ]
    },
    {
      "cell_type": "code",
      "source": [
        "f = lambda a, b : a+b\n",
        "print(list(map(f, [1, 2, 3], [1, 2, 3])))"
      ],
      "metadata": {
        "colab": {
          "base_uri": "https://localhost:8080/"
        },
        "id": "rn-WgHLLuVh6",
        "outputId": "a31a6894-d019-4fe2-fd4e-96da61a00d4e"
      },
      "execution_count": 20,
      "outputs": [
        {
          "output_type": "stream",
          "name": "stdout",
          "text": [
            "[2, 4, 6]\n"
          ]
        }
      ]
    },
    {
      "cell_type": "code",
      "source": [
        "def add_1(a, b):\n",
        "  c = 1\n",
        "  return a + b + c\n",
        "print(add_1(10, 20))"
      ],
      "metadata": {
        "colab": {
          "base_uri": "https://localhost:8080/"
        },
        "id": "sKc6ww_EukgA",
        "outputId": "5989491e-2788-4f1f-fc7d-6a0aa4333164"
      },
      "execution_count": 21,
      "outputs": [
        {
          "output_type": "stream",
          "name": "stdout",
          "text": [
            "31\n"
          ]
        }
      ]
    },
    {
      "cell_type": "code",
      "source": [
        "# lambda a, b : a + b + c # def안에서 변수 선언해서 쓸 수 있는데 lambda는 아님"
      ],
      "metadata": {
        "colab": {
          "base_uri": "https://localhost:8080/"
        },
        "id": "saxk6ctKuvew",
        "outputId": "505e11a8-cc55-4b1a-c12c-a7698a3e1a57"
      },
      "execution_count": 23,
      "outputs": [
        {
          "output_type": "stream",
          "name": "stdout",
          "text": [
            "31\n"
          ]
        }
      ]
    },
    {
      "cell_type": "code",
      "source": [
        "def func(x):\n",
        "  if x % 2 == 0:\n",
        "    return 2 * x\n",
        "  else:\n",
        "    return x\n",
        "print(list(map(func, [1, 2, 3, 4])))\n",
        "\n",
        "f = lambda x : 2*x if x % 2 == 0 else x # 람다 표현식에서 if 사용할 경우 else도 필수로 사용\n",
        "print(list(map(f,[1, 2, 3, 4])))\n",
        "\n"
      ],
      "metadata": {
        "colab": {
          "base_uri": "https://localhost:8080/"
        },
        "id": "jFrj6FhBvjnK",
        "outputId": "606ccf93-070a-4687-ed93-1d0563d62ac3"
      },
      "execution_count": 29,
      "outputs": [
        {
          "output_type": "stream",
          "name": "stdout",
          "text": [
            "[1, 4, 3, 8]\n",
            "[1, 4, 3, 8]\n"
          ]
        }
      ]
    },
    {
      "cell_type": "code",
      "source": [
        "def func(x):\n",
        "  if x == 1:\n",
        "    return 2 * x\n",
        "  elif x == 2:\n",
        "    return 3 * x\n",
        "  else:\n",
        "    return x\n",
        "print(list(map(func, [1, 2, 3, 4])))\n",
        "\n",
        "f = lambda x : 2 * x if x == 1 else 3 * x if x == 2 else x\n",
        "print(list(map(f,[1, 2, 3, 4])))"
      ],
      "metadata": {
        "colab": {
          "base_uri": "https://localhost:8080/"
        },
        "id": "Cbw6no5uyuz-",
        "outputId": "20866488-724b-4404-e176-866c8e0241cc"
      },
      "execution_count": 34,
      "outputs": [
        {
          "output_type": "stream",
          "name": "stdout",
          "text": [
            "[2, 6, 3, 4]\n",
            "[2, 6, 3, 4]\n"
          ]
        }
      ]
    },
    {
      "cell_type": "markdown",
      "source": [
        "클래스"
      ],
      "metadata": {
        "id": "GRM4uLVa1Kxo"
      }
    },
    {
      "cell_type": "code",
      "source": [
        "# 로봇을 만든다고 가정 -> 로봇의 키가 몇이고, 몸무게가 몇이고, 안녕이라고 말하면서 인사하는 기능이 있고 ..\n",
        "# 클래스는 좀 큰 변수를 만든다고 보면 됨. a = 1은 숫자 한 개 들어간 변수\n",
        "# a에 숫자 한 개도 넣고 리스트도 넣고 그것들을 가지고 기능을 하는 함수를 만들어 넣고 할 수 ㄴ없을까?\n",
        "# 객체(object)지향(oriented) 프로그래밍(programming)\n",
        "class Robot:\n",
        "  def greeting(self): # method : class 내부의 함수, 첫 번째 매개변수는 무조건 self (인스턴스 자기 자신을 나타내는 것)\n",
        "    print(\"Hello\")\n",
        "\n",
        "bot1 = Robot() # Robot이라는 클래스에 해당하는 instance 만들기 (실체화))\n",
        "bot1.greeting() # '.'은 가지고 있는 정도의 의미"
      ],
      "metadata": {
        "colab": {
          "base_uri": "https://localhost:8080/"
        },
        "id": "CMMWUrt11Lv4",
        "outputId": "6cecc48a-055b-4b6a-97ac-ade03fe94d68"
      },
      "execution_count": 37,
      "outputs": [
        {
          "output_type": "stream",
          "name": "stdout",
          "text": [
            "Hello\n"
          ]
        }
      ]
    },
    {
      "cell_type": "code",
      "source": [
        "a = [1, 2, 3] # 인스턴스 생성\n",
        "a.append(4) # a라는 이름의 인스턴스가 append라는 이름의 method를 실행\n",
        "print(type(a)) # 모든 기반은 class 위에 위치함"
      ],
      "metadata": {
        "colab": {
          "base_uri": "https://localhost:8080/"
        },
        "id": "-Ya0VD3u5ilm",
        "outputId": "a776cede-3767-47b9-d32e-66c442e6fa72"
      },
      "execution_count": 39,
      "outputs": [
        {
          "output_type": "stream",
          "name": "stdout",
          "text": [
            "<class 'list'>\n"
          ]
        }
      ]
    },
    {
      "cell_type": "code",
      "source": [
        "class Robot:\n",
        "  def __init__(self): #initialize라서 init, 인스턴스 생성 즉시 이 함수로 들어옴\n",
        "  # 이 함수명은 약속된 이름임 (special method)\n",
        "    print(\"__init__으로 들어옴\")\n",
        "\n",
        "bot1 = Robot() # 인슨턴스 만드는 동시에 __init__ 함수 실행"
      ],
      "metadata": {
        "colab": {
          "base_uri": "https://localhost:8080/"
        },
        "id": "Aj9c8A0w5zMK",
        "outputId": "00df2b71-8d89-4581-f3ea-8c97c9e3f1ea"
      },
      "execution_count": 41,
      "outputs": [
        {
          "output_type": "stream",
          "name": "stdout",
          "text": [
            "__init__으로 들어옴\n"
          ]
        }
      ]
    },
    {
      "cell_type": "code",
      "source": [
        "class Robot:\n",
        "  def __init__(self):\n",
        "    self.sentence = \"안녕\"\n",
        "    # self는 만들어진 인스턴스 자기자신을 가리킴\n",
        "    # self.무엇 은 self 내부의 것(변수, 함수)을 가리킴\n",
        "    # 클래스 내부의 변수는 속성(attribute)이라고 함\n",
        "\n",
        "  def greeting(self):\n",
        "    # print(sentence) # error!\n",
        "    print(self.sentence)\n",
        "\n",
        "bot1 = Robot()\n",
        "bot1.greeting()"
      ],
      "metadata": {
        "colab": {
          "base_uri": "https://localhost:8080/"
        },
        "id": "t1ojtmVM6dE_",
        "outputId": "263c72a3-7a17-41d4-f6f3-cad96226f48d"
      },
      "execution_count": 46,
      "outputs": [
        {
          "output_type": "stream",
          "name": "stdout",
          "text": [
            "안녕\n"
          ]
        }
      ]
    },
    {
      "cell_type": "code",
      "source": [
        "class Robot:\n",
        "  def __init__(self, height, sentence): # 밖에서 넘어오는 매개변수 무조건 self 뒤에\n",
        "    self.height = height # self.height는 클래스 내부에서 사용하기 위해 주머니에 넣은 것 (밖에서 들어온 height와는 다름)\n",
        "    self.sentence = sentence\n",
        "  def greeting(self):\n",
        "    # print(sentence)\n",
        "    print(f\"제 키는 {self.height}이에요\")\n",
        "\n",
        "bot1 = Robot(180, \"안녕\")\n",
        "bot1.greeting()\n",
        "bot1.height -= 10\n",
        "bot1.greeting()\n",
        "\n",
        "bot2 = Robot(160, \"하이\")\n",
        "bot2.greeting()\n",
        "print(bot2.height, bot2.sentence)"
      ],
      "metadata": {
        "colab": {
          "base_uri": "https://localhost:8080/"
        },
        "id": "UYJOC6w57YpZ",
        "outputId": "27477746-0828-42e1-d561-20d9d1736a4b"
      },
      "execution_count": 53,
      "outputs": [
        {
          "output_type": "stream",
          "name": "stdout",
          "text": [
            "제 키는 180이에요\n",
            "제 키는 170이에요\n",
            "제 키는 160이에요\n",
            "160 하이\n"
          ]
        }
      ]
    },
    {
      "cell_type": "code",
      "source": [
        "class Robot:\n",
        "  def __init__(self, height, sentence):\n",
        "    self.__height = height # 비공개로 만들고싶은 속성은 앞에 밑줄 두 개 추가\n",
        "    self.  sentence = sentence\n",
        "  def greeting(self):\n",
        "    self.__height -= 10 # 클래스 내부에서 변경 가능\n",
        "    print(f\"제 키는 {self.__height}이에요\")\n",
        "\n",
        "bot1 = Robot(180, \"hi\")\n",
        "bot1.greeting()\n",
        "# print(bot1.__height) # error! self.height는 밖에서 접근이 안 됨\n",
        "bot1.sentence = \"바꾸기\"\n",
        "print(bot1.sentence)"
      ],
      "metadata": {
        "colab": {
          "base_uri": "https://localhost:8080/"
        },
        "id": "TdCGosOL9FFg",
        "outputId": "9ce4cdb0-1cdd-4647-bce3-2315e6b0964d"
      },
      "execution_count": 59,
      "outputs": [
        {
          "output_type": "stream",
          "name": "stdout",
          "text": [
            "제 키는 170이에요\n",
            "바꾸기\n"
          ]
        }
      ]
    },
    {
      "cell_type": "code",
      "source": [
        "# 상속 -> 효율화\n",
        "class Robot: # 부모 클래스\n",
        "  def greeting(self):\n",
        "    print(\"로봇입니다\")\n",
        "\n",
        "class Study_bot(Robot): # Robot이라는 부모클래스로부터 상속받음 -> Robot이 가지는 함수 사용 가능\n",
        "  def study(self):\n",
        "    print(\"공부하는 로봇입니다\")\n",
        "\n",
        "bot = Study_bot()\n",
        "bot.greeting() # 부모클래스의 함수도 사용 가능\n",
        "bot.study()"
      ],
      "metadata": {
        "colab": {
          "base_uri": "https://localhost:8080/"
        },
        "id": "sO10jWcw-26x",
        "outputId": "05e457d1-b49c-40c4-fd3d-146a7f5953c6"
      },
      "execution_count": 64,
      "outputs": [
        {
          "output_type": "stream",
          "name": "stdout",
          "text": [
            "로봇입니다\n",
            "공부하는 로봇입니다\n"
          ]
        }
      ]
    },
    {
      "cell_type": "code",
      "source": [
        "# 메서드 오버라이딩 (overrding)\n",
        "class Robot:\n",
        "  def greeting(self):\n",
        "    print(\"로봇입니다\")\n",
        "\n",
        "class Study_bot(Robot):\n",
        "  def greeting(self): # 부모의 greeting을 물려받았으나 여기서 다시 정의하면 덮어써버림\n",
        "    super().greeting() # super()가 부모 클래스를 가리킴, 부모의 것을 이렇게 사용하는 것이 가능\n",
        "    print(\"공부하는 로봇입니다\") # 부모의 원래 기능은 유지, 거기에 덧붙이고 싶을 때 오버라이딩 사용 가능\n",
        "\n",
        "bot1 = Study_bot()\n",
        "bot1.greeting()"
      ],
      "metadata": {
        "colab": {
          "base_uri": "https://localhost:8080/"
        },
        "id": "WNzev6qrAITu",
        "outputId": "d0bdc57d-dcdc-440b-8af5-6257f8b35d19"
      },
      "execution_count": 63,
      "outputs": [
        {
          "output_type": "stream",
          "name": "stdout",
          "text": [
            "로봇입니다\n",
            "공부하는 로봇입니다\n"
          ]
        }
      ]
    },
    {
      "cell_type": "code",
      "source": [
        "class Robot:\n",
        "  def func1(self):\n",
        "    print(\"부모 클래스의 func1 실행\")\n",
        "    self.money = 100\n",
        "\n",
        "class Study_bot(Robot):\n",
        "  def func2(self):\n",
        "    print(\"자식 클래스의 func2 실행\")\n",
        "    self.book = 10\n",
        "\n",
        "bot1 = Study_bot()\n",
        "bot1.func1() # 부모 함수를 실행해야 부모의 속성을 가져올 수 있음\n",
        "bot1.func2()\n",
        "print(bot1.book)\n",
        "print(bot1.money)"
      ],
      "metadata": {
        "colab": {
          "base_uri": "https://localhost:8080/"
        },
        "id": "R-b_1O3NBzhI",
        "outputId": "6085e87b-e18f-467a-ca4c-3d3d38af04e2"
      },
      "execution_count": 68,
      "outputs": [
        {
          "output_type": "stream",
          "name": "stdout",
          "text": [
            "부모 클래스의 func1 실행\n",
            "자식 클래스의 func2 실행\n",
            "10\n",
            "100\n"
          ]
        }
      ]
    },
    {
      "cell_type": "code",
      "source": [
        "# 딥러닝 코드에선 아래와 같은 코드를 많이 보게 됨\n",
        "class Robot:\n",
        "  def __init__(self):\n",
        "    print(\"부모 클래스의 init 실행\")\n",
        "    self.money = 100\n",
        "class Study_bot(Robot):\n",
        "  def __init__(self):\n",
        "    super().__init__()\n",
        "    print(\"자식 클래스의 init 실행\")\n",
        "    self.book = 10\n",
        "\n",
        "bot_parent = Robot()\n",
        "print(bot_parent.money)\n",
        "\n",
        "bot1 = Study_bot()\n",
        "print(bot1.book)\n",
        "\n",
        "print(bot1.money)"
      ],
      "metadata": {
        "colab": {
          "base_uri": "https://localhost:8080/"
        },
        "id": "bPGxc0FhCjzY",
        "outputId": "53386d82-aedf-4cfd-a1e8-eb215ceb8c65"
      },
      "execution_count": 70,
      "outputs": [
        {
          "output_type": "stream",
          "name": "stdout",
          "text": [
            "부모 클래스의 init 실행\n",
            "100\n",
            "부모 클래스의 init 실행\n",
            "자식 클래스의 init 실행\n",
            "10\n",
            "100\n"
          ]
        }
      ]
    },
    {
      "cell_type": "code",
      "source": [
        "class Robot:\n",
        "  def __init__(self):\n",
        "    print(\"부모 클래스의 init 실행\")\n",
        "    self.money = 100\n",
        "class Study_bot(Robot):\n",
        "  def func2(self): # 자식 클래스에 __init__이 없다면 부모 클래스의 __init__이 자동 호출\n",
        "    # super().__init__()\n",
        "    print(\"자식 클래스의 init 실행\")\n",
        "    self.book = 10\n",
        "\n",
        "bot1 = Study_bot()\n",
        "bot1.func2()\n",
        "print(bot1.book)\n",
        "print(bot1.money)"
      ],
      "metadata": {
        "colab": {
          "base_uri": "https://localhost:8080/"
        },
        "id": "o30BJb6zD_QO",
        "outputId": "8e353d11-e7ee-45de-cdfd-69c5e43294ef"
      },
      "execution_count": 74,
      "outputs": [
        {
          "output_type": "stream",
          "name": "stdout",
          "text": [
            "부모 클래스의 init 실행\n",
            "자식 클래스의 init 실행\n",
            "10\n",
            "100\n"
          ]
        }
      ]
    },
    {
      "cell_type": "code",
      "source": [
        "class Robot:\n",
        "  def greeting(self):\n",
        "    print(\"로봇입니다\")\n",
        "\n",
        "class Life:\n",
        "  def eat(self):\n",
        "    print(\"냠냠\")\n",
        "\n",
        "class Study_bot(Robot, Life):\n",
        "  def study(self):\n",
        "    print(\"열심열심\")\n",
        "\n",
        "bot1 = Study_bot()\n",
        "bot1.greeting()\n",
        "bot1.eat()\n",
        "bot1.study()"
      ],
      "metadata": {
        "colab": {
          "base_uri": "https://localhost:8080/"
        },
        "id": "Zbz5CNq-FqIz",
        "outputId": "7be3c8b7-2117-489d-c8fa-3765f232aa8c"
      },
      "execution_count": 78,
      "outputs": [
        {
          "output_type": "stream",
          "name": "stdout",
          "text": [
            "로봇입니다\n",
            "냠냠\n",
            "열심열심\n"
          ]
        }
      ]
    },
    {
      "cell_type": "code",
      "source": [
        "# 알쏭달쏭 다이어몬드 상속\n",
        "class A:\n",
        "  def greeting(self):\n",
        "    print(\"A\")\n",
        "\n",
        "class B(A):\n",
        "  def greeting(self):\n",
        "    print(\"B\")\n",
        "\n",
        "class C(A):\n",
        "  def greeting(self):\n",
        "    print(\"C\")\n",
        "\n",
        "class D(B, C): # 가장 왼쪽것의 greeting을 사용하게 된다.\n",
        "  def __init__(self):\n",
        "    print(\"D\")\n",
        "\n",
        "x = D()\n",
        "x.greeting()"
      ],
      "metadata": {
        "colab": {
          "base_uri": "https://localhost:8080/"
        },
        "id": "gYXLublOHySW",
        "outputId": "1771a5c7-7d8b-4bbb-9553-204a4667e4a4"
      },
      "execution_count": 81,
      "outputs": [
        {
          "output_type": "stream",
          "name": "stdout",
          "text": [
            "D\n",
            "B\n"
          ]
        }
      ]
    },
    {
      "cell_type": "markdown",
      "source": [
        "이터레이터"
      ],
      "metadata": {
        "id": "gXBFAeN4InIy"
      }
    },
    {
      "cell_type": "code",
      "source": [
        "a = [1, 2, 3]\n",
        "a_it = iter(a)\n",
        "print(type(a_it))\n",
        "print(next(a_it))\n",
        "print(next(a_it))\n",
        "print(next(a_it))\n",
        "# print(next(a_it)) # 다 꺼내면 error!"
      ],
      "metadata": {
        "colab": {
          "base_uri": "https://localhost:8080/",
          "height": 291
        },
        "id": "_TwOiasdIlw6",
        "outputId": "d88dcf74-993d-46b0-c7e2-09e836e3b66e"
      },
      "execution_count": 87,
      "outputs": [
        {
          "output_type": "stream",
          "name": "stdout",
          "text": [
            "<class 'list_iterator'>\n",
            "1\n",
            "2\n",
            "3\n"
          ]
        },
        {
          "output_type": "error",
          "ename": "StopIteration",
          "evalue": "ignored",
          "traceback": [
            "\u001b[0;31m---------------------------------------------------------------------------\u001b[0m",
            "\u001b[0;31mStopIteration\u001b[0m                             Traceback (most recent call last)",
            "\u001b[0;32m<ipython-input-87-89cfde86814f>\u001b[0m in \u001b[0;36m<cell line: 7>\u001b[0;34m()\u001b[0m\n\u001b[1;32m      5\u001b[0m \u001b[0mprint\u001b[0m\u001b[0;34m(\u001b[0m\u001b[0mnext\u001b[0m\u001b[0;34m(\u001b[0m\u001b[0ma_it\u001b[0m\u001b[0;34m)\u001b[0m\u001b[0;34m)\u001b[0m\u001b[0;34m\u001b[0m\u001b[0;34m\u001b[0m\u001b[0m\n\u001b[1;32m      6\u001b[0m \u001b[0mprint\u001b[0m\u001b[0;34m(\u001b[0m\u001b[0mnext\u001b[0m\u001b[0;34m(\u001b[0m\u001b[0ma_it\u001b[0m\u001b[0;34m)\u001b[0m\u001b[0;34m)\u001b[0m\u001b[0;34m\u001b[0m\u001b[0;34m\u001b[0m\u001b[0m\n\u001b[0;32m----> 7\u001b[0;31m \u001b[0mprint\u001b[0m\u001b[0;34m(\u001b[0m\u001b[0mnext\u001b[0m\u001b[0;34m(\u001b[0m\u001b[0ma_it\u001b[0m\u001b[0;34m)\u001b[0m\u001b[0;34m)\u001b[0m\u001b[0;34m\u001b[0m\u001b[0;34m\u001b[0m\u001b[0m\n\u001b[0m",
            "\u001b[0;31mStopIteration\u001b[0m: "
          ]
        }
      ]
    },
    {
      "cell_type": "code",
      "source": [
        "for i in iter([1, 2, 3]):\n",
        "  print(i)\n",
        "\n",
        "a = [1, 2, 3]\n",
        "next(iter(a)) # list가 아닌 것을 iter로 바꿔서 하나씩 출력하기 편함 (한스푼 떠먹기 좋음)"
      ],
      "metadata": {
        "colab": {
          "base_uri": "https://localhost:8080/"
        },
        "id": "LJ_FhaCXI_74",
        "outputId": "66ac4e26-3396-4f13-d046-3b31fd8a3098"
      },
      "execution_count": 89,
      "outputs": [
        {
          "output_type": "stream",
          "name": "stdout",
          "text": [
            "1\n",
            "2\n",
            "3\n"
          ]
        },
        {
          "output_type": "execute_result",
          "data": {
            "text/plain": [
              "1"
            ]
          },
          "metadata": {},
          "execution_count": 89
        }
      ]
    }
  ]
}